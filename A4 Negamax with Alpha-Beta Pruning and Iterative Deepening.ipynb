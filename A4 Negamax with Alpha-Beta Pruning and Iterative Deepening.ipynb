{
 "cells": [
  {
   "cell_type": "markdown",
   "metadata": {},
   "source": [
    "# Negamax with Alpha-Beta Pruning and Iterative Deepening"
   ]
  },
  {
   "cell_type": "markdown",
   "metadata": {},
   "source": [
    "# Table of Contents\n",
    "* [Setting up the Tic-Tac-Toe board](#Setting-up-the-Tic-Tac-Toe-board)\n",
    "* [Negamax Implementation](#Negamax-Implementation)\n",
    "* [Playing a Game](#Playing-a-Game)\n",
    "* [Implementing negamaxIDS](#Implementing-negamaxIDS)\n",
    "* [Implementing negamaxIDSab](#Implementing-negamaxIDSab)\n",
    "* [Extra Credit](#Extra-Credit)"
   ]
  },
  {
   "cell_type": "markdown",
   "metadata": {},
   "source": [
    "For this project, I will be using the adverserial search algorithm of Negamax to play Tic-Tac_Toe. I will also be exploring the efficiency that Alpha-Beta Pruning brings to Negamax."
   ]
  },
  {
   "cell_type": "markdown",
   "metadata": {},
   "source": [
    "## Setting up the Tic-Tac-Toe board"
   ]
  },
  {
   "cell_type": "markdown",
   "metadata": {},
   "source": [
    "This class represents the various aspects of the game. The board is represented as a standard list and initialized with blanks. Player X will always start first and the valid moves are found through the locations of the blanks. We can then make moves by indicating which index we want to place the X or O in.\n",
    "\n",
    "We determine if a game is over by calling the utility function. If 'None' is returned, then the game is not over yet. If a 0 is returned, then the game has ended in a draw. Otherwise, the player whose turn it is has won with utility of 1.\n",
    "\n",
    "There is also a `movesExplored` variable that Negamax will use to track the number of moves it explores along its adverserial search."
   ]
  },
  {
   "cell_type": "code",
   "execution_count": 1,
   "metadata": {
    "collapsed": true
   },
   "outputs": [],
   "source": [
    "class TTT(object):\n",
    "\n",
    "    def __init__(self):\n",
    "        self.board = [' ']*9\n",
    "        self.player = 'X'\n",
    "        if False:\n",
    "            self.board = ['X', 'X', ' ', 'X', 'O', 'O', ' ', ' ', ' ']\n",
    "            self.player = 'O'\n",
    "        self.playerLookAHead = self.player\n",
    "        self.movesExplored = 0\n",
    "\n",
    "    def locations(self, c):\n",
    "        return [i for i, mark in enumerate(self.board) if mark == c]\n",
    "\n",
    "    def getMoves(self):\n",
    "        moves = self.locations(' ')\n",
    "        return moves\n",
    "\n",
    "    def getUtility(self):\n",
    "        whereX = self.locations('X')\n",
    "        whereO = self.locations('O')\n",
    "        wins = [[0, 1, 2], [3, 4, 5], [6, 7, 8],\n",
    "                [0, 3, 6], [1, 4, 7], [2, 5, 8],\n",
    "                [0, 4, 8], [2, 4, 6]]\n",
    "        isXWon = any([all([wi in whereX for wi in w]) for w in wins])\n",
    "        isOWon = any([all([wi in whereO for wi in w]) for w in wins])\n",
    "        if isXWon:\n",
    "            return 1 if self.playerLookAHead is 'X' else -1\n",
    "        elif isOWon:\n",
    "            return 1 if self.playerLookAHead is 'O' else -1\n",
    "        elif ' ' not in self.board:\n",
    "            return 0\n",
    "        else:\n",
    "            return None  ########################################################## CHANGED FROM -0.1\n",
    "\n",
    "    def isOver(self):\n",
    "        return self.getUtility() is not None\n",
    "\n",
    "    def makeMove(self, move):\n",
    "        self.board[move] = self.playerLookAHead\n",
    "        self.playerLookAHead = 'X' if self.playerLookAHead == 'O' else 'O'\n",
    "        self.movesExplored += 1\n",
    "\n",
    "    def changePlayer(self):\n",
    "        self.player = 'X' if self.player == 'O' else 'O'\n",
    "        self.playerLookAHead = self.player\n",
    "\n",
    "    def unmakeMove(self, move):\n",
    "        self.board[move] = ' '\n",
    "        self.playerLookAHead = 'X' if self.playerLookAHead == 'O' else 'O'\n",
    "\n",
    "    def getNumberMovesExplored(self):\n",
    "        return self.movesExplored\n",
    "\n",
    "    def getWinningValue(self):\n",
    "        return 1\n",
    "\n",
    "    def __str__(self):\n",
    "        s = '{}|{}|{}\\n-----\\n{}|{}|{}\\n-----\\n{}|{}|{}'.format(*self.board)\n",
    "        return s"
   ]
  },
  {
   "cell_type": "markdown",
   "metadata": {},
   "source": [
    "## Negamax Implementation"
   ]
  },
  {
   "cell_type": "markdown",
   "metadata": {},
   "source": [
    "Negamax is a simpler way to implement the *MiniMax* algorithm. By negating the utility values achieved at the leaf nodes, the player at each level will only have to choose the maximum value available to them. This is simpler than the *MiniMax* algortihm because it does not have to differentiate between choosing the Max or Mini value depending on which player's turn it is."
   ]
  },
  {
   "cell_type": "code",
   "execution_count": 2,
   "metadata": {
    "collapsed": true,
    "scrolled": false
   },
   "outputs": [],
   "source": [
    "def negamax(game, depthLeft):\n",
    "    '''\n",
    "    Returns the move with the best utility.\n",
    "    :param game: \n",
    "    :param depthLeft: \n",
    "    :return: \n",
    "    '''\n",
    "    # If at terminal state or depth limit, return utility value and move None\n",
    "    if game.isOver() or depthLeft == 0:\n",
    "        return game.getUtility(), None\n",
    "\n",
    "    # Find best move and its value from current state\n",
    "    bestValue, bestMove = None, None\n",
    "\n",
    "    for move in game.getMoves():\n",
    "        # Apply a move to current state\n",
    "        game.makeMove(move)\n",
    "\n",
    "        # Use depth-first search to find eventual utility value and back it up.\n",
    "        # Negate it because it will come back in context of next player\n",
    "        value, _ = negamax(game, depthLeft-1)\n",
    "\n",
    "        # Remove the move from current state, to prepare for trying a different move\n",
    "        game.unmakeMove(move)\n",
    "\n",
    "        if value is None:\n",
    "            continue\n",
    "\n",
    "        # negate the value returned from recursive call\n",
    "        value = -value\n",
    "\n",
    "        if bestValue is None or value > bestValue:\n",
    "            # Value for this move is better than moves tried so far from this state.\n",
    "            bestValue, bestMove = value, move\n",
    "    return bestValue, bestMove"
   ]
  },
  {
   "cell_type": "markdown",
   "metadata": {},
   "source": [
    "## Playing a Game"
   ]
  },
  {
   "cell_type": "markdown",
   "metadata": {},
   "source": [
    "In order to play Tic-Tac-Toe games, we will have player X's move determined by `negamax`. But what about the opponent's move? Well, let's have the opponenet employ the silly strategy of playing the first open position. Thus, we can write an `opponent` function as follows:"
   ]
  },
  {
   "cell_type": "code",
   "execution_count": 3,
   "metadata": {
    "collapsed": true
   },
   "outputs": [],
   "source": [
    "def opponent(board):\n",
    "    '''\n",
    "    Returns the first open position.\n",
    "    :param board: \n",
    "    :return: \n",
    "    '''\n",
    "    return board.index(' ')"
   ]
  },
  {
   "cell_type": "markdown",
   "metadata": {},
   "source": [
    "Now we can implement a `playGame` function that pits the strategy of Negamax against the bold strategy of choosing the first open position."
   ]
  },
  {
   "cell_type": "code",
   "execution_count": 4,
   "metadata": {
    "collapsed": true,
    "scrolled": false
   },
   "outputs": [],
   "source": [
    "def playGame(game, opponent, negamaxF, depthLimit):\n",
    "    '''\n",
    "    Plays a game with the specified negamax algorithm.\n",
    "    :param game:\n",
    "    :param opponent:\n",
    "    :param negamaxF:\n",
    "    :param depthLimit:\n",
    "    :return:\n",
    "    '''\n",
    "    print(game)\n",
    "    while not game.isOver():\n",
    "        score, move = negamaxF(game, depthLimit)\n",
    "        if move == None :\n",
    "            print('move is None. Stopping.')\n",
    "            break\n",
    "        game.makeMove(move)\n",
    "        print('Player', game.player, 'to', move, 'for score' ,score)\n",
    "        print(game)\n",
    "        if not game.isOver():\n",
    "            game.changePlayer()\n",
    "            opponentMove = opponent(game.board)\n",
    "            game.makeMove(opponentMove)\n",
    "            print('Player', game.player, 'to', opponentMove)\n",
    "            print(game)\n",
    "            game.changePlayer()"
   ]
  },
  {
   "cell_type": "markdown",
   "metadata": {},
   "source": [
    "Now we are ready to play a game of Tic-Tac-Toe.\n",
    "\n",
    "*Note: the depthLimit of `20` below is not really necessary since Tic-Tac-Toe has a max depth of `9` since there are only nine positions on the board, but searching at a greater depth limit will still give the same result.*"
   ]
  },
  {
   "cell_type": "code",
   "execution_count": 5,
   "metadata": {
    "scrolled": false
   },
   "outputs": [
    {
     "name": "stdout",
     "output_type": "stream",
     "text": [
      " | | \n",
      "-----\n",
      " | | \n",
      "-----\n",
      " | | \n",
      "Player X to 0 for score 0\n",
      "X| | \n",
      "-----\n",
      " | | \n",
      "-----\n",
      " | | \n",
      "Player O to 1\n",
      "X|O| \n",
      "-----\n",
      " | | \n",
      "-----\n",
      " | | \n",
      "Player X to 3 for score 1\n",
      "X|O| \n",
      "-----\n",
      "X| | \n",
      "-----\n",
      " | | \n",
      "Player O to 2\n",
      "X|O|O\n",
      "-----\n",
      "X| | \n",
      "-----\n",
      " | | \n",
      "Player X to 4 for score 1\n",
      "X|O|O\n",
      "-----\n",
      "X|X| \n",
      "-----\n",
      " | | \n",
      "Player O to 5\n",
      "X|O|O\n",
      "-----\n",
      "X|X|O\n",
      "-----\n",
      " | | \n",
      "Player X to 6 for score 1\n",
      "X|O|O\n",
      "-----\n",
      "X|X|O\n",
      "-----\n",
      "X| | \n"
     ]
    }
   ],
   "source": [
    "game = TTT()\n",
    "playGame(game, opponent, negamax, 20)"
   ]
  },
  {
   "cell_type": "markdown",
   "metadata": {},
   "source": [
    "## Implementing negamaxIDS "
   ]
  },
  {
   "cell_type": "markdown",
   "metadata": {},
   "source": [
    "Most times, the depth at which a win is achieved is not known beforehand. However, we can figure this out by combining iterative deepening search with `negamax` to form the `negamaxIDS` function.\n",
    "\n",
    "For Tic-Tac-Toe, we can stop as soon as a call to `negamax` returns a winning move. To keep the `negamaxIDS` function general, I have added a method called `getWinningValue` to the `TTT` class that just returns 1.  Then, `negamaxIDS` can call `game.getWinningValue()` to determine the value of a winning move for this game.  If the maximum depth is reached and no winning move has been found, the best move found over all depth limts is returned."
   ]
  },
  {
   "cell_type": "code",
   "execution_count": 6,
   "metadata": {
    "collapsed": true,
    "scrolled": false
   },
   "outputs": [],
   "source": [
    "def negamaxIDS(game, depthLimit):\n",
    "    winningValue = game.getWinningValue()\n",
    "    bestValue, bestMove = None, None\n",
    "    for depth in range(1, depthLimit + 1):\n",
    "        bestValue, bestMove = negamax(game, depth)\n",
    "        if bestValue == winningValue:\n",
    "            return bestValue, bestMove\n",
    "    return bestValue, bestMove"
   ]
  },
  {
   "cell_type": "markdown",
   "metadata": {},
   "source": [
    "## Implementing negamaxIDSab"
   ]
  },
  {
   "cell_type": "markdown",
   "metadata": {},
   "source": [
    "The concept of Alpha-Beta Pruning is to limit the number of sub-trees explored. To help us understand how this concept works in Negamax, let us first examine the use of Alpha-Beta Pruning in *MiniMax*.\n",
    "\n",
    "In the *MiniMax* algorithm, alpha and beta would be initialized to -$\\infty$ and $\\infty$ respectively. Alpha represents the best choice we have found so far at any choice point along the path for Max. Beta represents the best choice we have found so far at any choice point along the path for Min. Since we are playing from the point of view of X, we want to maximize our utility. So, if Min has found a move that is equal to or less than the best move Max has found (alpha), then we can prune away the rest of Min's search tree since Min will at least choose this move (beta) if not a worse move for Max.\n",
    "\n",
    "With that in mind, we can implement Alpha-Beta Pruning for Negamax by creating a new function that takes in `alpha` and `beta` arguments and call it `negamaxAB`. We then negate and swap the `alpha` and `beta` values in the `negamaxAB` recursive call. We also incorporate the iterative deepening approach into the final `negamaxIDSab` function."
   ]
  },
  {
   "cell_type": "code",
   "execution_count": 7,
   "metadata": {
    "collapsed": true,
    "scrolled": false
   },
   "outputs": [],
   "source": [
    "def negamaxAB(game, alpha, beta, depthLeft):\n",
    "    # If at terminal state or depth limit, return utility value and move None\n",
    "    if game.isOver() or depthLeft == 0:\n",
    "        return game.getUtility(), None\n",
    "\n",
    "    # Find best move and its value from current state\n",
    "    bestValue, bestMove = None, None\n",
    "\n",
    "    for move in game.getMoves():\n",
    "        # negate and swap alpha and beta values\n",
    "        #alpha, beta = -beta, -alpha\n",
    "\n",
    "        # Apply a move to current state\n",
    "        game.makeMove(move)\n",
    "\n",
    "        # Use depth-first search to find eventual utility value and back it up.\n",
    "        # Negate it because it will come back in context of next player\n",
    "        value, _ = negamaxAB(game, -beta, -alpha, depthLeft-1)\n",
    "\n",
    "        # Remove the move from current state, to prepare for trying a different move\n",
    "        game.unmakeMove(move)\n",
    "        if value is None:\n",
    "            continue\n",
    "\n",
    "        # negate the value returned from recursive call\n",
    "        value = -value\n",
    "\n",
    "        if bestValue is None or value > bestValue:\n",
    "            bestValue, bestMove = value, move\n",
    "        if bestValue >= beta:\n",
    "            # Mini will choose at least this value, so we can prune away rest of the tree\n",
    "            return bestValue, bestMove\n",
    "        alpha = max(bestValue, alpha)\n",
    "    return bestValue, bestMove"
   ]
  },
  {
   "cell_type": "code",
   "execution_count": 8,
   "metadata": {
    "collapsed": true,
    "scrolled": false
   },
   "outputs": [],
   "source": [
    "def negamaxIDSab(game, depthLimit):\n",
    "    alpha, beta = -float('infinity'), float('infinity')\n",
    "    winningValue = game.getWinningValue()\n",
    "    bestValue, bestMove = None, None\n",
    "    for depth in range(1, depthLimit + 1):\n",
    "        bestValue, bestMove = negamaxAB(game, alpha, beta, depth)\n",
    "        if bestValue == winningValue:\n",
    "            return bestValue, bestMove\n",
    "    return bestValue, bestMove"
   ]
  },
  {
   "cell_type": "markdown",
   "metadata": {},
   "source": [
    "## Playing Games\n",
    "\n",
    "I have implemented a `playGames` function that plays games with all three Negamax implementations. At the end, a report is shown indicating the number of moves made by player X, moves explored, effective branching factor (EBF) for depth when game finished, and runtime for each negamax implementation.\n",
    "\n",
    "The depth used in the EBF calculation is the total number of moves made by X and by O during the search."
   ]
  },
  {
   "cell_type": "code",
   "execution_count": 9,
   "metadata": {
    "collapsed": true
   },
   "outputs": [],
   "source": [
    "import time  # needed to calculate runtime below"
   ]
  },
  {
   "cell_type": "code",
   "execution_count": 10,
   "metadata": {
    "collapsed": true,
    "scrolled": false
   },
   "outputs": [],
   "source": [
    "def ebf(nNodes, depth, precision=0.01):\n",
    "    if nNodes == 0:\n",
    "        return 0\n",
    "\n",
    "    def ebfRec(low, high):\n",
    "        mid = (low + high) * 0.5\n",
    "        if mid == 1:\n",
    "            estimate = 1 + depth\n",
    "        else:\n",
    "            estimate = (1 - mid**(depth + 1)) / (1 - mid)\n",
    "        if abs(estimate - nNodes) < precision:\n",
    "            return mid\n",
    "        if estimate > nNodes:\n",
    "            return ebfRec(low, mid)\n",
    "        else:\n",
    "            return ebfRec(mid, high)\n",
    "\n",
    "    return ebfRec(1, nNodes)"
   ]
  },
  {
   "cell_type": "code",
   "execution_count": 11,
   "metadata": {
    "collapsed": true,
    "scrolled": true
   },
   "outputs": [],
   "source": [
    "def playGames(opponent, depthLimit):\n",
    "    '''\n",
    "    Plays three games with the three different negamax algorithms.\n",
    "    Prints the moves made by X, moves explored, and effective branching factor for depth when game finished.\n",
    "    :param opponent:\n",
    "    :param depthLimit:\n",
    "    :return:\n",
    "    '''\n",
    "    game1 = TTT()\n",
    "    game2 = TTT()\n",
    "    game3 = TTT()\n",
    "\n",
    "    t0 = time.time()\n",
    "    print('negamax:')\n",
    "    playGame(game1, opponent, negamax, depthLimit)\n",
    "    depth1 = len(game1.locations('X')) + len(game1.locations('O'))\n",
    "    time1 = time.time() - t0\n",
    "\n",
    "    t0 = time.time()\n",
    "    print('negamaxIDS:')\n",
    "    playGame(game2, opponent, negamaxIDS, depthLimit)\n",
    "    depth2 = len(game2.locations('X')) + len(game2.locations('O'))\n",
    "    time2 = time.time() - t0\n",
    "\n",
    "    t0 = time.time()\n",
    "    print('negamaxIDSab:')\n",
    "    playGame(game3, opponent, negamaxIDSab, depthLimit)\n",
    "    depth3 = len(game3.locations('X')) + len(game3.locations('O'))\n",
    "    time3 = time.time() - t0\n",
    "\n",
    "    print()\n",
    "    print('negamax made {0} moves. {1} moves explored for ebf({2}, {3}) of {4:.2f} | Time taken: {5:.2f}s'.format(len(game1.locations('X')),\n",
    "                                                                                           game1.getNumberMovesExplored(),\n",
    "                                                                                           game1.getNumberMovesExplored(),\n",
    "                                                                                           depth1, ebf(game1.getNumberMovesExplored(), depth1), time1))\n",
    "\n",
    "    print('negamaxIDS made {0} moves. {1} moves explored for ebf({2}, {3}) of {4:.2f} | Time taken: {5:.2f}s'.format(len(game2.locations('X')),\n",
    "                                                                                              game2.getNumberMovesExplored(),\n",
    "                                                                                              game2.getNumberMovesExplored(),\n",
    "                                                                                              depth2, ebf(game2.getNumberMovesExplored(), depth2), time2))\n",
    "\n",
    "    print('negamaxIDSab made {0} moves. {1} moves explored for ebf({2}, {3}) of {4:.2f} | Time taken: {5:.2f}s'.format(len(game3.locations('X')),\n",
    "                                                                                                game3.getNumberMovesExplored(),\n",
    "                                                                                                game3.getNumberMovesExplored(),\n",
    "                                                                                                depth3, ebf(game3.getNumberMovesExplored(), depth3), time3))"
   ]
  },
  {
   "cell_type": "markdown",
   "metadata": {},
   "source": [
    "Let's play some games!"
   ]
  },
  {
   "cell_type": "code",
   "execution_count": 12,
   "metadata": {
    "scrolled": true
   },
   "outputs": [
    {
     "name": "stdout",
     "output_type": "stream",
     "text": [
      "negamax:\n",
      " | | \n",
      "-----\n",
      " | | \n",
      "-----\n",
      " | | \n",
      "Player X to 0 for score 0\n",
      "X| | \n",
      "-----\n",
      " | | \n",
      "-----\n",
      " | | \n",
      "Player O to 1\n",
      "X|O| \n",
      "-----\n",
      " | | \n",
      "-----\n",
      " | | \n",
      "Player X to 3 for score 1\n",
      "X|O| \n",
      "-----\n",
      "X| | \n",
      "-----\n",
      " | | \n",
      "Player O to 2\n",
      "X|O|O\n",
      "-----\n",
      "X| | \n",
      "-----\n",
      " | | \n",
      "Player X to 4 for score 1\n",
      "X|O|O\n",
      "-----\n",
      "X|X| \n",
      "-----\n",
      " | | \n",
      "Player O to 5\n",
      "X|O|O\n",
      "-----\n",
      "X|X|O\n",
      "-----\n",
      " | | \n",
      "Player X to 6 for score 1\n",
      "X|O|O\n",
      "-----\n",
      "X|X|O\n",
      "-----\n",
      "X| | \n",
      "negamaxIDS:\n",
      " | | \n",
      "-----\n",
      " | | \n",
      "-----\n",
      " | | \n",
      "Player X to 0 for score 1\n",
      "X| | \n",
      "-----\n",
      " | | \n",
      "-----\n",
      " | | \n",
      "Player O to 1\n",
      "X|O| \n",
      "-----\n",
      " | | \n",
      "-----\n",
      " | | \n",
      "Player X to 3 for score 1\n",
      "X|O| \n",
      "-----\n",
      "X| | \n",
      "-----\n",
      " | | \n",
      "Player O to 2\n",
      "X|O|O\n",
      "-----\n",
      "X| | \n",
      "-----\n",
      " | | \n",
      "Player X to 6 for score 1\n",
      "X|O|O\n",
      "-----\n",
      "X| | \n",
      "-----\n",
      "X| | \n",
      "negamaxIDSab:\n",
      " | | \n",
      "-----\n",
      " | | \n",
      "-----\n",
      " | | \n",
      "Player X to 0 for score 1\n",
      "X| | \n",
      "-----\n",
      " | | \n",
      "-----\n",
      " | | \n",
      "Player O to 1\n",
      "X|O| \n",
      "-----\n",
      " | | \n",
      "-----\n",
      " | | \n",
      "Player X to 3 for score 1\n",
      "X|O| \n",
      "-----\n",
      "X| | \n",
      "-----\n",
      " | | \n",
      "Player O to 2\n",
      "X|O|O\n",
      "-----\n",
      "X| | \n",
      "-----\n",
      " | | \n",
      "Player X to 6 for score 1\n",
      "X|O|O\n",
      "-----\n",
      "X| | \n",
      "-----\n",
      "X| | \n",
      "\n",
      "negamax made 4 moves. 558334 moves explored for ebf(558334, 7) of 6.46 | Time taken: 14.17s\n",
      "negamaxIDS made 3 moves. 23338 moves explored for ebf(23338, 5) of 7.26 | Time taken: 0.63s\n",
      "negamaxIDSab made 3 moves. 6053 moves explored for ebf(6053, 5) of 5.48 | Time taken: 0.17s\n"
     ]
    }
   ],
   "source": [
    "playGames(opponent, 9)"
   ]
  },
  {
   "cell_type": "markdown",
   "metadata": {},
   "source": [
    "## Extra Credit "
   ]
  },
  {
   "cell_type": "markdown",
   "metadata": {},
   "source": [
    "I implemented a random move chooser as the opponent (player O) and determined how many times player X could win, using the `negamaxIDSab` strategy, against this opponent as an average over multiple games."
   ]
  },
  {
   "cell_type": "markdown",
   "metadata": {},
   "source": [
    "### Random move opponent"
   ]
  },
  {
   "cell_type": "code",
   "execution_count": 13,
   "metadata": {
    "collapsed": true
   },
   "outputs": [],
   "source": [
    "import random"
   ]
  },
  {
   "cell_type": "code",
   "execution_count": 14,
   "metadata": {
    "collapsed": true
   },
   "outputs": [],
   "source": [
    "def rand_opponent(board):\n",
    "    validMoves = [i for i in range(len(board)) if board[i] == ' ']\n",
    "    move = random.choice(validMoves)\n",
    "    return move"
   ]
  },
  {
   "cell_type": "markdown",
   "metadata": {},
   "source": [
    "### Average wins of X"
   ]
  },
  {
   "cell_type": "code",
   "execution_count": 15,
   "metadata": {
    "collapsed": true,
    "scrolled": false
   },
   "outputs": [],
   "source": [
    "def avgWinsX(opponent, numGames):\n",
    "    timesWon = 0\n",
    "    for i in range(numGames):\n",
    "        game = TTT()\n",
    "        playGame(game, opponent, negamaxIDSab, 9)\n",
    "        if game.isOver() == 1 and game.player == 'X':\n",
    "            timesWon += 1\n",
    "    return timesWon / numGames * 100"
   ]
  },
  {
   "cell_type": "markdown",
   "metadata": {},
   "source": [
    "Let's see how player X will deal with the pseudo-unpredictableness of player O."
   ]
  },
  {
   "cell_type": "code",
   "execution_count": 16,
   "metadata": {
    "collapsed": true
   },
   "outputs": [],
   "source": [
    "numGames = 7"
   ]
  },
  {
   "cell_type": "code",
   "execution_count": 18,
   "metadata": {},
   "outputs": [
    {
     "name": "stdout",
     "output_type": "stream",
     "text": [
      " | | \n",
      "-----\n",
      " | | \n",
      "-----\n",
      " | | \n",
      "Player X to 0 for score 1\n",
      "X| | \n",
      "-----\n",
      " | | \n",
      "-----\n",
      " | | \n",
      "Player O to 7\n",
      "X| | \n",
      "-----\n",
      " | | \n",
      "-----\n",
      " |O| \n",
      "Player X to 1 for score 1\n",
      "X|X| \n",
      "-----\n",
      " | | \n",
      "-----\n",
      " |O| \n",
      "Player O to 4\n",
      "X|X| \n",
      "-----\n",
      " |O| \n",
      "-----\n",
      " |O| \n",
      "Player X to 2 for score 1\n",
      "X|X|X\n",
      "-----\n",
      " |O| \n",
      "-----\n",
      " |O| \n",
      " | | \n",
      "-----\n",
      " | | \n",
      "-----\n",
      " | | \n",
      "Player X to 0 for score 1\n",
      "X| | \n",
      "-----\n",
      " | | \n",
      "-----\n",
      " | | \n",
      "Player O to 5\n",
      "X| | \n",
      "-----\n",
      " | |O\n",
      "-----\n",
      " | | \n",
      "Player X to 1 for score 1\n",
      "X|X| \n",
      "-----\n",
      " | |O\n",
      "-----\n",
      " | | \n",
      "Player O to 7\n",
      "X|X| \n",
      "-----\n",
      " | |O\n",
      "-----\n",
      " |O| \n",
      "Player X to 2 for score 1\n",
      "X|X|X\n",
      "-----\n",
      " | |O\n",
      "-----\n",
      " |O| \n",
      " | | \n",
      "-----\n",
      " | | \n",
      "-----\n",
      " | | \n",
      "Player X to 0 for score 1\n",
      "X| | \n",
      "-----\n",
      " | | \n",
      "-----\n",
      " | | \n",
      "Player O to 5\n",
      "X| | \n",
      "-----\n",
      " | |O\n",
      "-----\n",
      " | | \n",
      "Player X to 1 for score 1\n",
      "X|X| \n",
      "-----\n",
      " | |O\n",
      "-----\n",
      " | | \n",
      "Player O to 2\n",
      "X|X|O\n",
      "-----\n",
      " | |O\n",
      "-----\n",
      " | | \n",
      "Player X to 8 for score 1\n",
      "X|X|O\n",
      "-----\n",
      " | |O\n",
      "-----\n",
      " | |X\n",
      "Player O to 6\n",
      "X|X|O\n",
      "-----\n",
      " | |O\n",
      "-----\n",
      "O| |X\n",
      "Player X to 4 for score 1\n",
      "X|X|O\n",
      "-----\n",
      " |X|O\n",
      "-----\n",
      "O| |X\n",
      " | | \n",
      "-----\n",
      " | | \n",
      "-----\n",
      " | | \n",
      "Player X to 0 for score 1\n",
      "X| | \n",
      "-----\n",
      " | | \n",
      "-----\n",
      " | | \n",
      "Player O to 3\n",
      "X| | \n",
      "-----\n",
      "O| | \n",
      "-----\n",
      " | | \n",
      "Player X to 1 for score 1\n",
      "X|X| \n",
      "-----\n",
      "O| | \n",
      "-----\n",
      " | | \n",
      "Player O to 7\n",
      "X|X| \n",
      "-----\n",
      "O| | \n",
      "-----\n",
      " |O| \n",
      "Player X to 2 for score 1\n",
      "X|X|X\n",
      "-----\n",
      "O| | \n",
      "-----\n",
      " |O| \n",
      " | | \n",
      "-----\n",
      " | | \n",
      "-----\n",
      " | | \n",
      "Player X to 0 for score 1\n",
      "X| | \n",
      "-----\n",
      " | | \n",
      "-----\n",
      " | | \n",
      "Player O to 6\n",
      "X| | \n",
      "-----\n",
      " | | \n",
      "-----\n",
      "O| | \n",
      "Player X to 1 for score 1\n",
      "X|X| \n",
      "-----\n",
      " | | \n",
      "-----\n",
      "O| | \n",
      "Player O to 2\n",
      "X|X|O\n",
      "-----\n",
      " | | \n",
      "-----\n",
      "O| | \n",
      "Player X to 4 for score 1\n",
      "X|X|O\n",
      "-----\n",
      " |X| \n",
      "-----\n",
      "O| | \n",
      "Player O to 7\n",
      "X|X|O\n",
      "-----\n",
      " |X| \n",
      "-----\n",
      "O|O| \n",
      "Player X to 8 for score 1\n",
      "X|X|O\n",
      "-----\n",
      " |X| \n",
      "-----\n",
      "O|O|X\n",
      " | | \n",
      "-----\n",
      " | | \n",
      "-----\n",
      " | | \n",
      "Player X to 0 for score 1\n",
      "X| | \n",
      "-----\n",
      " | | \n",
      "-----\n",
      " | | \n",
      "Player O to 3\n",
      "X| | \n",
      "-----\n",
      "O| | \n",
      "-----\n",
      " | | \n",
      "Player X to 1 for score 1\n",
      "X|X| \n",
      "-----\n",
      "O| | \n",
      "-----\n",
      " | | \n",
      "Player O to 8\n",
      "X|X| \n",
      "-----\n",
      "O| | \n",
      "-----\n",
      " | |O\n",
      "Player X to 2 for score 1\n",
      "X|X|X\n",
      "-----\n",
      "O| | \n",
      "-----\n",
      " | |O\n",
      " | | \n",
      "-----\n",
      " | | \n",
      "-----\n",
      " | | \n",
      "Player X to 0 for score 1\n",
      "X| | \n",
      "-----\n",
      " | | \n",
      "-----\n",
      " | | \n",
      "Player O to 5\n",
      "X| | \n",
      "-----\n",
      " | |O\n",
      "-----\n",
      " | | \n",
      "Player X to 1 for score 1\n",
      "X|X| \n",
      "-----\n",
      " | |O\n",
      "-----\n",
      " | | \n",
      "Player O to 4\n",
      "X|X| \n",
      "-----\n",
      " |O|O\n",
      "-----\n",
      " | | \n",
      "Player X to 2 for score 1\n",
      "X|X|X\n",
      "-----\n",
      " |O|O\n",
      "-----\n",
      " | | \n",
      "On average, X won 100.00% of the 7 games played.\n"
     ]
    }
   ],
   "source": [
    "print('On average, X won {0:.2f}% of the {1} games played.'.format(avgWinsX(rand_opponent, numGames), numGames))"
   ]
  },
  {
   "cell_type": "markdown",
   "metadata": {},
   "source": [
    "Well then, it looks like player X is the clear winner here!"
   ]
  }
 ],
 "metadata": {
  "kernelspec": {
   "display_name": "Python 3",
   "language": "python",
   "name": "python3"
  },
  "language_info": {
   "codemirror_mode": {
    "name": "ipython",
    "version": 3
   },
   "file_extension": ".py",
   "mimetype": "text/x-python",
   "name": "python",
   "nbconvert_exporter": "python",
   "pygments_lexer": "ipython3",
   "version": "3.6.1"
  }
 },
 "nbformat": 4,
 "nbformat_minor": 2
}
