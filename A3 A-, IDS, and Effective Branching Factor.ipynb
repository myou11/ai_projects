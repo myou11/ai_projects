{
 "cells": [
  {
   "cell_type": "markdown",
   "metadata": {},
   "source": [
    "<div style=\"text-align: right\">Maxwell You</div>"
   ]
  },
  {
   "cell_type": "markdown",
   "metadata": {},
   "source": [
    "# A3: A\\*, IDS, and Effective Branching Factor"
   ]
  },
  {
   "cell_type": "markdown",
   "metadata": {},
   "source": [
    "For this assignment, I have implemented the Recursive Best-First Search\n",
    "implementation of the A\\* algorithm given in class. Also in this notebook, I have included my `iterativeDeepeningSearch` functions so that I can compare their efficiecies at the end. To aid in this comparison, I have also written an Effective Branching Factor function `ebf` that returns an estimate of the effective\n",
    "branching factor for a search algorithm applied to a search problem.\n",
    "\n",
    "The main functions of interest in this notebook are:\n",
    "\n",
    "   - `aStarSearch(startState, actionsF, takeActionF, goalTestF, hF)`,\n",
    "   - `iterativeDeepeningSearch(startState, goalState, actionsF, takeActionF, maxDepth)`,\n",
    "   - `ebf(nNodes, depth, precision=0.01)`, returns number of nodes expanded and depth reached during a search\n",
    "\n",
    "`iterativeDeepeningSearch` and `aStarSearch` are applied to several eight-tile sliding puzzle\n",
    "problems. The main functions necessary to carry out `iterativeDeepeningSearch` are:\n",
    "\n",
    "  * `actionsF_8p(state)`: returns a list of up to four valid actions that can be applied in `state`. Each action includes a step cost of 1. For example, if all four actions are possible from this state, return [('left', 1), ('right', 1), ('up', 1), ('down', 1)].\n",
    "  * `takeActionF_8p(state, action)`: return the state that results from applying `action` in `state` and the cost of the one step\n",
    "  * `goalTestF_8p(state, goal)`: return true if state equals goal state\n",
    "  \n",
    "To compare both searches, I have provided a table with solution path depth, number of nodes generated, and the effective branching factor, and discuss the results. The table is produced by the following function:\n",
    "\n",
    "   * `runExperiment(goalState1, goalState2, goalState3, heuristics)`: returns a table comparing different aspects of IDS and A\\* search. `heuristics` is a list of heuristics to test"
   ]
  },
  {
   "cell_type": "markdown",
   "metadata": {},
   "source": [
    "The searches below will be using a global variable `num_nodes` in order to keep track of the number of nodes generated during their execution."
   ]
  },
  {
   "cell_type": "code",
   "execution_count": 1,
   "metadata": {
    "collapsed": true
   },
   "outputs": [],
   "source": [
    "global num_nodes\n",
    "num_nodes = 0"
   ]
  },
  {
   "cell_type": "markdown",
   "metadata": {},
   "source": [
    "## 8-Puzzle Functions"
   ]
  },
  {
   "cell_type": "markdown",
   "metadata": {},
   "source": [
    "### Finding tiles"
   ]
  },
  {
   "cell_type": "markdown",
   "metadata": {},
   "source": [
    "A generic function to find the positions of any tile on the board. Finding the blank is just a special case of this function (i.e. `findTile_8p(state, 0)`. We want to find the blank in order to determine the possible moves we can make."
   ]
  },
  {
   "cell_type": "code",
   "execution_count": 2,
   "metadata": {
    "collapsed": true
   },
   "outputs": [],
   "source": [
    "def findTile_8p(state, tile):\n",
    "    \"\"\"\n",
    "    Returns tuple with coordinates of tile\n",
    "    Assumes that there will be a blank (0) in the input list\n",
    "    :param state:\n",
    "    :return (row, col):\n",
    "    \"\"\"\n",
    "    row = -1\n",
    "    col = -1\n",
    "    for i in range(len(state)):\n",
    "        if i < 3 and state[i] == tile:\n",
    "                row = 0                # in 1st row if (0 <= index in list < 3)\n",
    "                col = i                # col is the offset within first 3 indices\n",
    "                break\n",
    "        elif i < 6 and state[i] == tile:\n",
    "                row = 1                # in 2nd row if (3 <= index in list < 6)\n",
    "                col = 2 - (5 - i)      # col is the offset within 3rd-5th indices\n",
    "                break\n",
    "        elif i < 9 and state[i] == tile:\n",
    "                row = 2                # in 3rd row if (6 <= index in list < 9)\n",
    "                col = 2 - (8 - i)      # col is the offset within 6th-8th indices\n",
    "                break\n",
    "    return (row, col)"
   ]
  },
  {
   "cell_type": "markdown",
   "metadata": {},
   "source": [
    "### Finding actions"
   ]
  },
  {
   "cell_type": "code",
   "execution_count": 3,
   "metadata": {
    "collapsed": true
   },
   "outputs": [],
   "source": [
    "def actionsF_8p(state):\n",
    "    \"\"\"\n",
    "    Returns list of valid actions based on the position of the blank\n",
    "    Assumes a valid state with blank is provided\n",
    "    :param state:\n",
    "    :return actions:\n",
    "    \"\"\"\n",
    "    actions = []\n",
    "    row, col = findTile_8p(state, 0)\n",
    "    if 0 <= col - 1 < 3:\n",
    "        actions.append(('left', 1))\n",
    "    if 0 <= col + 1 < 3:\n",
    "        actions.append(('right', 1))\n",
    "    if 0 <= row - 1 < 3:\n",
    "        actions.append(('up', 1))\n",
    "    if 0 <= row + 1 < 3:\n",
    "        actions.append(('down', 1))\n",
    "\n",
    "    return actions"
   ]
  },
  {
   "cell_type": "markdown",
   "metadata": {},
   "source": [
    "### Translating grid coordinates to list index"
   ]
  },
  {
   "cell_type": "markdown",
   "metadata": {},
   "source": [
    "takeActionF_8p will use this to switch the tiles around the game board."
   ]
  },
  {
   "cell_type": "code",
   "execution_count": 4,
   "metadata": {
    "collapsed": true
   },
   "outputs": [],
   "source": [
    "def tileIndexInList(row, col):\n",
    "    \"\"\"\n",
    "    Returns index of blank in the list based on its row, col in the gameboard\n",
    "    Assumes valid row, col are given\n",
    "    :param row:\n",
    "    :param col:\n",
    "    :return index:\n",
    "    \"\"\"\n",
    "    index = -1\n",
    "    if row == 0:\n",
    "        index = col\n",
    "    if row == 1:\n",
    "        index = 3 + col\n",
    "    if row == 2:\n",
    "        index = 6 + col\n",
    "    return index"
   ]
  },
  {
   "cell_type": "markdown",
   "metadata": {},
   "source": [
    "### Taking actions"
   ]
  },
  {
   "cell_type": "markdown",
   "metadata": {},
   "source": [
    "Manipulating the list indices to change the state of the game board."
   ]
  },
  {
   "cell_type": "code",
   "execution_count": 5,
   "metadata": {
    "collapsed": true
   },
   "outputs": [],
   "source": [
    "def takeActionF_8p(state, action):\n",
    "    \"\"\"\n",
    "    Returns the modified state list by applying the action\n",
    "    Assumes only valid actions are given\n",
    "    :param state:\n",
    "    :param action:\n",
    "    :return state:\n",
    "    \"\"\"\n",
    "    stateCopy = state[:]  # copy state into a new list, so we dont modify the original\n",
    "    row, col = findTile_8p(state, 0)\n",
    "    if action[0] == 'up':  # get direction from action tuple\n",
    "        moveFrom = tileIndexInList(row, col)  # index of blank in the list\n",
    "        stateCopy[moveFrom] = stateCopy[moveFrom - 3]  # swap blank with tile above\n",
    "        stateCopy[moveFrom - 3] = 0  # place blank in tile above\n",
    "\n",
    "    elif action[0] == 'down':  # get direction from action tuple\n",
    "        moveFrom = tileIndexInList(row, col)  # index of blank in the list\n",
    "        stateCopy[moveFrom] = stateCopy[moveFrom + 3]  # swap blank with tile below\n",
    "        stateCopy[moveFrom + 3] = 0  # place blank in tile below\n",
    "\n",
    "    elif action[0] == 'left':  # get direction from action tuple\n",
    "        moveFrom = tileIndexInList(row, col)  # index of blank in the list\n",
    "        stateCopy[moveFrom] = state[moveFrom - 1]  # swap blank with left tile\n",
    "        stateCopy[moveFrom - 1] = 0  # place blank in left tile\n",
    "\n",
    "    elif action[0] == 'right':  # get direction from action tuple\n",
    "        moveFrom = tileIndexInList(row, col)  # index of blank in the list\n",
    "        stateCopy[moveFrom] = stateCopy[moveFrom + 1]  # swap blank with right tile\n",
    "        stateCopy[moveFrom + 1] = 0  # place blank in right tile\n",
    "    return stateCopy, 1  # return updated state and cost of step"
   ]
  },
  {
   "cell_type": "markdown",
   "metadata": {},
   "source": [
    "## Iterative Deepening Search (IDS)"
   ]
  },
  {
   "cell_type": "code",
   "execution_count": 6,
   "metadata": {
    "collapsed": true
   },
   "outputs": [],
   "source": [
    "def depthLimitedSearch(state, goalState, actionsF, takeActionF, depthLimit):\n",
    "    global num_nodes  # use the global num_nodes var\n",
    "    \n",
    "    if state == goalState:\n",
    "        return []\n",
    "    if depthLimit == 0:\n",
    "        return 'cutoff'\n",
    "\n",
    "    cutoffOccurred = False\n",
    "\n",
    "    for action in actionsF(state):  # generate the next possible game states for the puzzle\n",
    "        num_nodes += 1  # increment number of nodes expanded\n",
    "        childState, _ = takeActionF(state, action)  # underscore is syntax for annonymous variable that will never be used\n",
    "        result = depthLimitedSearch(childState, goalState, actionsF, takeActionF, depthLimit - 1)\n",
    "        if result == 'cutoff':\n",
    "            cutoffOccurred = True\n",
    "        elif result is not 'failure':\n",
    "            result.insert(0, childState)\n",
    "            return result\n",
    "\n",
    "    if cutoffOccurred:\n",
    "        return 'cutoff'\n",
    "    else:\n",
    "        return 'failure'\n",
    "\n",
    "def iterativeDeepeningSearch(startState, goalState, actionsF, takeActionF, maxDepth):\n",
    "    for depth in range(maxDepth):\n",
    "        result = depthLimitedSearch(startState, goalState, actionsF, takeActionF, depth)\n",
    "        if result is 'failure':\n",
    "            return 'failure'\n",
    "        if result is not 'cutoff':\n",
    "            result.insert(0, startState)\n",
    "            return result\n",
    "    return 'cutoff'"
   ]
  },
  {
   "cell_type": "markdown",
   "metadata": {},
   "source": [
    "### Checking for goal"
   ]
  },
  {
   "cell_type": "code",
   "execution_count": 7,
   "metadata": {
    "collapsed": true
   },
   "outputs": [],
   "source": [
    "def goalTestF_8p(state, goal):\n",
    "    return state == goal"
   ]
  },
  {
   "cell_type": "markdown",
   "metadata": {},
   "source": [
    "## Testing IDS on an 8-puzzle"
   ]
  },
  {
   "cell_type": "markdown",
   "metadata": {},
   "source": [
    "8-puzzle with one start state\n",
    "\n",
    "$$\n",
    "\\begin{array}{ccc}\n",
    "1 & 2 & 3\\\\\n",
    "4 & 0 & 5\\\\\n",
    "6 & 7 & 8\n",
    "\\end{array}\n",
    "$$\n",
    "\n",
    "and these three goal states.\n",
    "\n",
    "$$\n",
    "\\begin{array}{ccccccccccc}\n",
    "1 & 2 & 3  & ~~~~ & 1 & 2 & 3  &  ~~~~ & 1 & 0 &  3\\\\\n",
    "4 & 0 & 5  & & 4 & 5 & 8  & & 4 & 5 & 8\\\\\n",
    "6 & 7 & 8 &  & 6 & 0 & 7  & & 2 & 6 & 7\n",
    "\\end{array}\n",
    "$$"
   ]
  },
  {
   "cell_type": "code",
   "execution_count": 8,
   "metadata": {
    "collapsed": true
   },
   "outputs": [],
   "source": [
    "startState_8p = [1, 2, 3, 4, 0, 5, 6, 7, 8]"
   ]
  },
  {
   "cell_type": "code",
   "execution_count": 9,
   "metadata": {
    "collapsed": true
   },
   "outputs": [],
   "source": [
    "goalState1_8p = [1, 2, 3, 4, 0, 5, 6, 7, 8]\n",
    "goalState2_8p = [1, 2, 3, 4, 5, 8, 6, 0, 7]\n",
    "goalState3_8p = [1, 0, 3, 4, 5, 8, 2, 6, 7]"
   ]
  },
  {
   "cell_type": "code",
   "execution_count": 10,
   "metadata": {},
   "outputs": [
    {
     "data": {
      "text/plain": [
       "[[1, 2, 3, 4, 0, 5, 6, 7, 8]]"
      ]
     },
     "execution_count": 10,
     "metadata": {},
     "output_type": "execute_result"
    }
   ],
   "source": [
    "iterativeDeepeningSearch(startState_8p, goalState1_8p, actionsF_8p, takeActionF_8p, 10)"
   ]
  },
  {
   "cell_type": "code",
   "execution_count": 11,
   "metadata": {},
   "outputs": [
    {
     "data": {
      "text/plain": [
       "[[1, 2, 3, 4, 0, 5, 6, 7, 8],\n",
       " [1, 2, 3, 4, 5, 0, 6, 7, 8],\n",
       " [1, 2, 3, 4, 5, 8, 6, 7, 0],\n",
       " [1, 2, 3, 4, 5, 8, 6, 0, 7]]"
      ]
     },
     "execution_count": 11,
     "metadata": {},
     "output_type": "execute_result"
    }
   ],
   "source": [
    "iterativeDeepeningSearch(startState_8p, goalState2_8p, actionsF_8p, takeActionF_8p, 20)"
   ]
  },
  {
   "cell_type": "code",
   "execution_count": 12,
   "metadata": {
    "scrolled": true
   },
   "outputs": [
    {
     "data": {
      "text/plain": [
       "[[1, 2, 3, 4, 0, 5, 6, 7, 8],\n",
       " [1, 0, 3, 4, 2, 5, 6, 7, 8],\n",
       " [0, 1, 3, 4, 2, 5, 6, 7, 8],\n",
       " [4, 1, 3, 0, 2, 5, 6, 7, 8],\n",
       " [4, 1, 3, 2, 0, 5, 6, 7, 8],\n",
       " [4, 1, 3, 2, 5, 0, 6, 7, 8],\n",
       " [4, 1, 3, 2, 5, 8, 6, 7, 0],\n",
       " [4, 1, 3, 2, 5, 8, 6, 0, 7],\n",
       " [4, 1, 3, 2, 5, 8, 0, 6, 7],\n",
       " [4, 1, 3, 0, 5, 8, 2, 6, 7],\n",
       " [0, 1, 3, 4, 5, 8, 2, 6, 7],\n",
       " [1, 0, 3, 4, 5, 8, 2, 6, 7]]"
      ]
     },
     "execution_count": 12,
     "metadata": {},
     "output_type": "execute_result"
    }
   ],
   "source": [
    "iterativeDeepeningSearch(startState_8p, goalState3_8p, actionsF_8p, takeActionF_8p, 20)"
   ]
  },
  {
   "cell_type": "markdown",
   "metadata": {},
   "source": [
    "## Uninformed vs. Informed Search"
   ]
  },
  {
   "cell_type": "markdown",
   "metadata": {},
   "source": [
    "IDS is great for uninformed searching, where we can't make inferences on what the next best move is. However, since the 8-puzzle is a game, we do have some ideas of what moves are better than others. With good enough heuristics (guesses), we could feed these and the current state of the game into the A\\* search algorithm to make an informed search of the state space.\n",
    "\n",
    "The benefits of using A\\* is to cut down on the number of unecessary states we would search using an uniformed search such as IDS. Cutting down unecessary search paths is also known as **pruning**.\n",
    "\n",
    "Below, I have implemented A\\* search based off of [Prof. Chuck Anderson's](http://www.cs.colostate.edu/~anderson/cs440/doku.php) notes and [Artificial Intelligence: A Modern Approach](http://aima.cs.berkeley.edu)."
   ]
  },
  {
   "cell_type": "markdown",
   "metadata": {},
   "source": [
    "## Finding Effective Branching Factor (ebf)"
   ]
  },
  {
   "cell_type": "code",
   "execution_count": 13,
   "metadata": {
    "collapsed": true
   },
   "outputs": [],
   "source": [
    "def ebf(nNodes, depth, precision=0.01):\n",
    "    if nNodes == 1 and depth == 0:\n",
    "        return 1\n",
    "    if nNodes == 0:  # no nodes means no branching factor is possible\n",
    "        return 0\n",
    "    if nNodes == 1:  # branching factor can only be 1 with 1 node\n",
    "        return ebf_helper(0, nNodes, nNodes, depth, precision)\n",
    "    return ebf_helper(1, nNodes, nNodes, depth, precision)\n",
    "\n",
    "\n",
    "def ebf_helper(lo, hi, nNodes, depth, precision=0.01):\n",
    "    mid = (hi + lo) / 2  # aka branching factor b\n",
    "\n",
    "    if mid == 1:\n",
    "        nGuess = 1\n",
    "        for d in range(1, depth):\n",
    "            nNodes += mid ** d\n",
    "    else:\n",
    "        nGuess = (1 - (mid ** (depth + 1))) / (1 - mid)\n",
    "\n",
    "    if abs(nGuess - nNodes) < precision:\n",
    "        return mid\n",
    "\n",
    "    if nGuess < nNodes:\n",
    "        return ebf_helper(mid, hi, nNodes, depth, precision)\n",
    "    else:  # nGuess > nNodes\n",
    "        return ebf_helper(lo, mid, nNodes, depth, precision)"
   ]
  },
  {
   "cell_type": "markdown",
   "metadata": {},
   "source": [
    "## A\\* Search"
   ]
  },
  {
   "cell_type": "markdown",
   "metadata": {},
   "source": [
    "In order to carry out A\\* search, we need to represent our states as nodes with f, g, and h values where f is total cost to get to the goal, g is cost to the node so far, and h is an estimate of the remaining cost to reach the goal."
   ]
  },
  {
   "cell_type": "markdown",
   "metadata": {},
   "source": [
    "### Node Class"
   ]
  },
  {
   "cell_type": "code",
   "execution_count": 14,
   "metadata": {
    "collapsed": true
   },
   "outputs": [],
   "source": [
    "class Node:\n",
    "    def __init__(self, state, f=0, g=0 ,h=0):\n",
    "        self.state = state\n",
    "        self.f = f\n",
    "        self.g = g\n",
    "        self.h = h\n",
    "    def __repr__(self):\n",
    "        return \"Node(\" + repr(self.state) + \", f=\" + repr(self.f) + \\\n",
    "               \", g=\" + repr(self.g) + \", h=\" + repr(self.h) + \")\""
   ]
  },
  {
   "cell_type": "markdown",
   "metadata": {},
   "source": [
    "### A\\* Implementation"
   ]
  },
  {
   "cell_type": "code",
   "execution_count": 15,
   "metadata": {
    "collapsed": true
   },
   "outputs": [],
   "source": [
    "def aStarSearch(startState, actionsF, takeActionF, goalTestF, hF):\n",
    "    h = hF(startState)\n",
    "    startNode = Node(state=startState, f=0+h, g=0, h=h)\n",
    "    return aStarSearchHelper(startNode, actionsF, takeActionF, goalTestF, hF, float('inf'))\n",
    "\n",
    "\n",
    "def aStarSearchHelper(parentNode, actionsF, takeActionF, goalTestF, hF, fLimit):\n",
    "    global num_nodes  # use the global num_nodes var\n",
    "    \n",
    "    if goalTestF(parentNode.state) is True:\n",
    "        return [parentNode.state], parentNode.g     # return a list so upper recursion levels\n",
    "                                                    # can construct solution path\n",
    "\n",
    "    successors = []  # list of children to search\n",
    "\n",
    "    for action in actionsF(parentNode.state):\n",
    "        # Construct children nodes with childState, f, g, and h values\n",
    "        childState, stepcost = takeActionF(parentNode.state, action)\n",
    "        g = parentNode.g + stepcost\n",
    "        h = hF(childState)\n",
    "        f = max(g + h, parentNode.f)\n",
    "        childNode = Node(state=childState, f=f, g=g, h=h)\n",
    "        successors.append(childNode)\n",
    "        num_nodes += 1  # increment number of nodes expanded\n",
    "\n",
    "    if not successors:  # if no children to search, then no solution\n",
    "        return 'failure', float('inf')\n",
    "\n",
    "    # Start of actual searching\n",
    "    while True:                                 # Search through all the children\n",
    "        successors.sort(key = lambda n: n.f)    # sort nodes by lowest f value\n",
    "        bestSuccessor = successors[0]\n",
    "\n",
    "        if bestSuccessor.f > fLimit:\n",
    "            return 'failure', bestSuccessor.f\n",
    "\n",
    "        alternativef = successors[1].f if len(successors) > 1 else float('inf')  # node with second-lowest f value\n",
    "\n",
    "        # expand best child with best f value, reassign its f value to be returned value\n",
    "        result, bestSuccessor.f = aStarSearchHelper(bestSuccessor, actionsF, takeActionF,\n",
    "                                                    goalTestF, hF, min(fLimit, alternativef))\n",
    "\n",
    "        # if result is not failure, it means we have found the solution and\n",
    "        # can start backtracking to form the solution path\n",
    "        if result is not 'failure':\n",
    "            result.insert(0, parentNode.state)\n",
    "            return result, bestSuccessor.f"
   ]
  },
  {
   "cell_type": "markdown",
   "metadata": {},
   "source": [
    "Here is a simple example using graph search."
   ]
  },
  {
   "cell_type": "code",
   "execution_count": 16,
   "metadata": {
    "collapsed": true
   },
   "outputs": [],
   "source": [
    "def actionsF_simple(state):\n",
    "    succs = {'a': ['b', 'c'], 'b':['a'], 'c':['h'], 'h':['i'], 'i':['j', 'k', 'l'], 'k':['z']}\n",
    "    return [(s, 1) for s in succs.get(state, [])]\n",
    "\n",
    "def takeActionF_simple(state, action):\n",
    "    return action\n",
    "\n",
    "def goalTestF_simple(state, goal):\n",
    "    return state == goal\n",
    "\n",
    "def h_simple(state, goal):\n",
    "    return 1"
   ]
  },
  {
   "cell_type": "code",
   "execution_count": 17,
   "metadata": {
    "scrolled": true
   },
   "outputs": [
    {
     "data": {
      "text/plain": [
       "[('b', 1), ('c', 1)]"
      ]
     },
     "execution_count": 17,
     "metadata": {},
     "output_type": "execute_result"
    }
   ],
   "source": [
    "actions = actionsF_simple('a')\n",
    "actions"
   ]
  },
  {
   "cell_type": "code",
   "execution_count": 18,
   "metadata": {},
   "outputs": [
    {
     "data": {
      "text/plain": [
       "('b', 1)"
      ]
     },
     "execution_count": 18,
     "metadata": {},
     "output_type": "execute_result"
    }
   ],
   "source": [
    "takeActionF_simple('a', actions[0])"
   ]
  },
  {
   "cell_type": "code",
   "execution_count": 19,
   "metadata": {},
   "outputs": [
    {
     "data": {
      "text/plain": [
       "True"
      ]
     },
     "execution_count": 19,
     "metadata": {},
     "output_type": "execute_result"
    }
   ],
   "source": [
    "goalTestF_simple('a', 'a')"
   ]
  },
  {
   "cell_type": "code",
   "execution_count": 20,
   "metadata": {},
   "outputs": [
    {
     "data": {
      "text/plain": [
       "1"
      ]
     },
     "execution_count": 20,
     "metadata": {},
     "output_type": "execute_result"
    }
   ],
   "source": [
    "h_simple('a', 'z')"
   ]
  },
  {
   "cell_type": "code",
   "execution_count": 21,
   "metadata": {},
   "outputs": [
    {
     "data": {
      "text/plain": [
       "(['a', 'c', 'h', 'i', 'k', 'z'], 5)"
      ]
     },
     "execution_count": 21,
     "metadata": {},
     "output_type": "execute_result"
    }
   ],
   "source": [
    "aStarSearch('a',actionsF_simple, takeActionF_simple,\n",
    "            lambda s: goalTestF_simple(s, 'z'),\n",
    "            lambda s: h_simple(s, 'z'))"
   ]
  },
  {
   "cell_type": "markdown",
   "metadata": {},
   "source": [
    "Let's see what solution IDS gives us."
   ]
  },
  {
   "cell_type": "code",
   "execution_count": 22,
   "metadata": {},
   "outputs": [
    {
     "data": {
      "text/plain": [
       "['a', 'c', 'h', 'i', 'k', 'z']"
      ]
     },
     "execution_count": 22,
     "metadata": {},
     "output_type": "execute_result"
    }
   ],
   "source": [
    "iterativeDeepeningSearch('a', 'z', actionsF_simple, takeActionF_simple, 10)"
   ]
  },
  {
   "cell_type": "markdown",
   "metadata": {},
   "source": [
    "Hmm, so A\\* gives us the same solution that IDS would have given us. So what is the benefit of using A\\* over IDS? Well, let's try to do some behind the scenes analysis to figure this out."
   ]
  },
  {
   "cell_type": "markdown",
   "metadata": {},
   "source": [
    "## Effective Branching Factor (EBF)"
   ]
  },
  {
   "cell_type": "markdown",
   "metadata": {},
   "source": [
    "In order to help us analyze these searches, we first need to explore a concept **known as effective branching factor**.\n",
    "\n",
    "EBF is a measure of how many child nodes, on average, are generated for each parent node in a search. Given number of nodes expanded **n** and depth **d** at which solution was found, one can solve for the EBF **b** using the general formula:\n",
    "\n",
    "$$\n",
    "n = 1 + b + b^2 + \\cdots + b^d\n",
    "$$\n",
    "\n",
    "or a faster way to calculate this:\n",
    "\n",
    "$$\n",
    "\\frac{1-b^{d+1}}{1-b}\n",
    "$$\n",
    "\n",
    "A high branching factor and depth would translate to a large amount of nodes expanded, leading to more time being spent on searching. In our analysis of these searches, we will be finding the EBF and seeing how many nodes are expanded in each search. By the end of our analysis, we will be able to discern why A\\* is better than IDS for searching when we can make informed choices."
   ]
  },
  {
   "cell_type": "code",
   "execution_count": 23,
   "metadata": {
    "collapsed": true
   },
   "outputs": [],
   "source": [
    "def ebf(nNodes, depth, precision=0.01):\n",
    "    if nNodes == 1 and depth == 0:\n",
    "        return 1\n",
    "    if nNodes == 0:  # no nodes means no branching factor is possible\n",
    "        return 0\n",
    "    if nNodes == 1:  # branching factor can only be 1 with 1 node\n",
    "        return ebf_helper(0, nNodes, nNodes, depth, precision)\n",
    "    return ebf_helper(1, nNodes, nNodes, depth, precision)\n",
    "\n",
    "\n",
    "def ebf_helper(lo, hi, nNodes, depth, precision=0.01):\n",
    "    mid = (hi + lo) / 2  # aka branching factor b\n",
    "\n",
    "    if mid == 1:\n",
    "        nGuess = 1\n",
    "        for d in range(1, depth):\n",
    "            nNodes += mid ** d\n",
    "    else:\n",
    "        nGuess = (1 - (mid ** (depth + 1))) / (1 - mid)\n",
    "\n",
    "    if abs(nGuess - nNodes) < precision:\n",
    "        return mid\n",
    "\n",
    "    if nGuess < nNodes:\n",
    "        return ebf_helper(mid, hi, nNodes, depth, precision)\n",
    "    else:  # nGuess > nNodes\n",
    "        return ebf_helper(lo, mid, nNodes, depth, precision)"
   ]
  },
  {
   "cell_type": "markdown",
   "metadata": {},
   "source": [
    "First, some example output for the ebf function."
   ]
  },
  {
   "cell_type": "code",
   "execution_count": 24,
   "metadata": {},
   "outputs": [
    {
     "data": {
      "text/plain": [
       "1.661376953125"
      ]
     },
     "execution_count": 24,
     "metadata": {},
     "output_type": "execute_result"
    }
   ],
   "source": [
    "ebf(10, 3)"
   ]
  },
  {
   "cell_type": "markdown",
   "metadata": {},
   "source": [
    "The smallest argument values should be a depth of 0 and 1 node, as we must start from the root."
   ]
  },
  {
   "cell_type": "code",
   "execution_count": 25,
   "metadata": {},
   "outputs": [
    {
     "data": {
      "text/plain": [
       "1"
      ]
     },
     "execution_count": 25,
     "metadata": {},
     "output_type": "execute_result"
    }
   ],
   "source": [
    "ebf(1, 0)"
   ]
  },
  {
   "cell_type": "code",
   "execution_count": 26,
   "metadata": {},
   "outputs": [
    {
     "data": {
      "text/plain": [
       "1.0078125"
      ]
     },
     "execution_count": 26,
     "metadata": {},
     "output_type": "execute_result"
    }
   ],
   "source": [
    "ebf(2, 1)"
   ]
  },
  {
   "cell_type": "code",
   "execution_count": 27,
   "metadata": {},
   "outputs": [
    {
     "data": {
      "text/plain": [
       "1.0000009536743164"
      ]
     },
     "execution_count": 27,
     "metadata": {},
     "output_type": "execute_result"
    }
   ],
   "source": [
    "ebf(2, 1, precision=0.000001)"
   ]
  },
  {
   "cell_type": "code",
   "execution_count": 28,
   "metadata": {},
   "outputs": [
    {
     "data": {
      "text/plain": [
       "11.275596931956898"
      ]
     },
     "execution_count": 28,
     "metadata": {},
     "output_type": "execute_result"
    }
   ],
   "source": [
    "ebf(200000, 5)"
   ]
  },
  {
   "cell_type": "code",
   "execution_count": 29,
   "metadata": {},
   "outputs": [
    {
     "data": {
      "text/plain": [
       "1.2348192492705223"
      ]
     },
     "execution_count": 29,
     "metadata": {},
     "output_type": "execute_result"
    }
   ],
   "source": [
    "ebf(200000, 50)"
   ]
  },
  {
   "cell_type": "markdown",
   "metadata": {},
   "source": [
    "## Comparing A\\* and IDS"
   ]
  },
  {
   "cell_type": "markdown",
   "metadata": {},
   "source": [
    "I will organize the solution path depth, number of nodes generated, and the effective branching factor into a table using the `runExperiment(...)` below."
   ]
  },
  {
   "cell_type": "code",
   "execution_count": 30,
   "metadata": {
    "collapsed": true
   },
   "outputs": [],
   "source": [
    "def runExperiment(goalState1, goalState2, goalState3, heuristics):\n",
    "    global num_nodes\n",
    "    num_nodes = 0   # zero out num_nodes to be safe\n",
    "    print('{:>9}{:^35}{:^35}{:^35}'.format(' ', str(goalState1), str(goalState2), str(goalState3)))\n",
    "    print('Algorithm' + '{:>10}{:>10}{:>10}'.format('Depth', 'Nodes', 'EBF') +\n",
    "          '{:>15}{:>10}{:>10}'.format('Depth', 'Nodes', 'EBF') +\n",
    "          '{:>15}{:>10}{:>10}'.format('Depth', 'Nodes', 'EBF'))\n",
    "    print('{:<17}'.format('IDS'), end='')\n",
    "    \n",
    "    goals = [goalState1, goalState2, goalState3]\n",
    "    \n",
    "    for goalState in [goalState1, goalState2, goalState3]:\n",
    "        ids = iterativeDeepeningSearch(startState_8p, goalState, actionsF_8p, takeActionF_8p, 20)\n",
    "        depth = len(ids) - 1    # depth of IDS is just the length of the solution path - 1\n",
    "        b = ebf(num_nodes, depth)\n",
    "        print('{:}{:>10}{:>10.3f}{:>14}'.format(depth, num_nodes, b, ' '), end='')\n",
    "        num_nodes = 0   # reset nodes expanded for next search\n",
    "    print()\n",
    "\n",
    "    print('{:<17}'.format('A*h1'), end='')\n",
    "    for goal in goals:\n",
    "        aStar, depth = aStarSearch(startState_8p, actionsF_8p, takeActionF_8p,\n",
    "                                   lambda s: goalTestF_8p(s, goal),\n",
    "                                   lambda s: heuristics[0](s, goal))\n",
    "        b = ebf(num_nodes, depth)\n",
    "        print('{:}{:>10}{:>10.3f}{:>14}'.format(depth, num_nodes, b, ' '), end='')\n",
    "        num_nodes = 0  # reset nodes expanded for next search\n",
    "    print()\n",
    "\n",
    "    print('{:<17}'.format('A*h2'), end='')\n",
    "    for goal in goals:\n",
    "        # depth of A* is the stepcost returned by the search\n",
    "        aStar, depth = aStarSearch(startState_8p, actionsF_8p, takeActionF_8p,\n",
    "                                   lambda s: goalTestF_8p(s, goal),\n",
    "                                   lambda s: heuristics[1](s, goal))\n",
    "        b = ebf(num_nodes, depth)\n",
    "        print('{:}{:>10}{:>10.3f}{:>14}'.format(depth, num_nodes, b, ' '), end='')\n",
    "        num_nodes = 0  # reset nodes expanded for next search\n",
    "    print()\n",
    "\n",
    "    print('{:<17}'.format('A*h3'), end='')\n",
    "    for goal in goals:\n",
    "        aStar, depth = aStarSearch(startState_8p, actionsF_8p, takeActionF_8p,\n",
    "                                   lambda s: goalTestF_8p(s, goal),\n",
    "                                   lambda s: heuristics[2](s, goal))\n",
    "        b = ebf(num_nodes, depth)\n",
    "        print('{:}{:>10}{:>10.3f}{:>14}'.format(depth, num_nodes, b, ' '), end='')\n",
    "        num_nodes = 0  # reset nodes expanded for next search\n",
    "    print()"
   ]
  },
  {
   "cell_type": "markdown",
   "metadata": {},
   "source": [
    "### Heuristic Functions\n",
    "\n",
    "For `aStarSearch` I use the following three heuristic functions, two given by Prof. Chuck Anderson, and one I implemented from [Artificial Intelligence: A Modern Approach](http://aima.cs.berkeley.edu).\n",
    "\n",
    "Given:\n",
    "  * `h1_8p(state, goal)`: $h(state, goal) = 0$, for all states $state$ and all goal states $goal$,\n",
    "  * `h2_8p(state, goal)`: $h(state, goal) = m$, where $m$ is the Manhattan distance that the blank is from its goal position\n",
    "\n",
    "Heuristic I chose to implement:\n",
    "  * `h3_8p(state, goal)`: $h(state, goal) = m$, where $m$ is the cumulative Manhattan distance that the tiles are from their goal positions."
   ]
  },
  {
   "cell_type": "code",
   "execution_count": 31,
   "metadata": {
    "collapsed": true
   },
   "outputs": [],
   "source": [
    "def h1_8p(state, goal):\n",
    "    '''\n",
    "    Returns a constant 0 as a heuristic\n",
    "    i.e. basically does a breadth first search\n",
    "    :param state: \n",
    "    :param goal: \n",
    "    :return 0: \n",
    "    '''\n",
    "    return 0\n",
    "\n",
    "def h2_8p(state, goal):\n",
    "    '''\n",
    "    Calculates the Manhattan Distance for the blank as a heuristic\n",
    "    i.e. how far blank is away from its position in goal state\n",
    "    :param state:\n",
    "    :param goal:\n",
    "    :return manhattan_dist:\n",
    "    '''\n",
    "    row, col = findTile_8p(state, 0)\n",
    "    goalRow, goalCol = findTile_8p(goal, 0)\n",
    "\n",
    "    return abs(row - goalRow) + abs(col - goalCol)  # manhattan distance\n",
    "\n",
    "def h3_8p(state, goal):\n",
    "    '''\n",
    "    Calculates the Manhattan Distance for all the tiles as a heuristic\n",
    "    i.e. how far, collectively, the tiles are away from their positions in the goal state\n",
    "    :param state:\n",
    "    :param goal:\n",
    "    :return manhattan_dist:\n",
    "    '''\n",
    "    manhattan_dist = 0\n",
    "    for tile in state:\n",
    "        row, col = findTile_8p(state, tile)\n",
    "        goalRow, goalCol = findTile_8p(goal, tile)\n",
    "        manhattan_dist += abs(row - goalRow) + abs(col - goalCol)\n",
    "\n",
    "    return manhattan_dist"
   ]
  },
  {
   "cell_type": "code",
   "execution_count": 32,
   "metadata": {
    "scrolled": true
   },
   "outputs": [
    {
     "name": "stdout",
     "output_type": "stream",
     "text": [
      "             [1, 2, 3, 4, 0, 5, 6, 7, 8]        [1, 2, 3, 4, 5, 8, 6, 0, 7]        [1, 0, 3, 4, 5, 8, 2, 6, 7]    \n",
      "Algorithm     Depth     Nodes       EBF          Depth     Nodes       EBF          Depth     Nodes       EBF\n",
      "IDS              0         0     0.000              3        43     3.086              11    225850     2.954              \n",
      "A*h1             0         0     0.000              3       116     4.488              11    643246     3.263              \n",
      "A*h2             0         0     0.000              3        51     3.297              11    100046     2.733              \n",
      "A*h3             0         0     0.000              3         9     1.578              11      3944     1.992              \n"
     ]
    }
   ],
   "source": [
    "runExperiment(goalState1_8p, goalState2_8p, goalState3_8p, [h1_8p, h2_8p, h3_8p])"
   ]
  },
  {
   "cell_type": "markdown",
   "metadata": {},
   "source": [
    "### Discussing the results"
   ]
  },
  {
   "cell_type": "markdown",
   "metadata": {},
   "source": [
    "From the table above one can see that A\\* with the first heuristic expanded the most nodes out of all the searches. Why is this? Well, the reason lies in the fact that the heuristic returns a constant 0 as the guess for the remaining cost to get to the goal. In this case, A\\* is, in practice, doing Breadth-First search, hence the high EBF. Since all the successors start with an f cost of 1, A\\* will start exploring in a frontier-like fashion. When A\\* expands a successor n, the f costs of the children of n will be more than the f cost of the nodes on the previous levels. It won't be until A\\* has explored all the nodes on one level will it then proceed to the next. The heuristic here is essentially useless as it does not inform A\\* any useful information.\n",
    "\n",
    "A\\* with the second and third heuristics expanded significantly less nodes than IDS. Let's first look at A\\* with the second heuristic versus IDS. The second heuristic was the Manhattan distance of the blank to its position in the goal state. This is a useful heuristic because A\\* will choose to make moves that are the lowest distance from the goal (i.e. get it to the solution the quickest).\n",
    "\n",
    "A\\* with the third heuristic is the one I chose to implement: the Manhattan distance of all the tiles to their positions in the goal state. This heuristic is admissible because it never overestimates the true cost to get to the goal. It never overestimates the true cost because the shortest path for any tile to its position in the goal state is the Manhattan distance. Therefore, the sum of all Manhattan distances of all tiles to their positions in the goal state will always be less than or equal to the true cost to get to the goal state.\n",
    "\n",
    "I think the third heuristic reduced the number of nodes expanded by a significant amount because instead of just the Manhattan distance of the blank, it was able to pool together the Manhattan distances of all the tiles to their correct positions. This collective Manhattan distance gives A\\* a more informed decision, and therefore it expands significantly less nodes than any of the other searches."
   ]
  }
 ],
 "metadata": {
  "anaconda-cloud": {},
  "kernelspec": {
   "display_name": "Python 3",
   "language": "python",
   "name": "python3"
  },
  "language_info": {
   "codemirror_mode": {
    "name": "ipython",
    "version": 3
   },
   "file_extension": ".py",
   "mimetype": "text/x-python",
   "name": "python",
   "nbconvert_exporter": "python",
   "pygments_lexer": "ipython3",
   "version": "3.6.1"
  }
 },
 "nbformat": 4,
 "nbformat_minor": 1
}
