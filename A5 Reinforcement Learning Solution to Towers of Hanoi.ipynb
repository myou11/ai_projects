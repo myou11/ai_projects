{
 "cells": [
  {
   "cell_type": "markdown",
   "metadata": {},
   "source": [
    "<div style=\"text-align: right\">Maxwell You</div>"
   ]
  },
  {
   "cell_type": "markdown",
   "metadata": {},
   "source": [
    "# Reinforcement Learning Solution to the Towers of Hanoi Puzzle"
   ]
  },
  {
   "cell_type": "markdown",
   "metadata": {},
   "source": [
    "For this assignment, I will use reinforcement learning to solve the [Towers of Hanoi](https://en.wikipedia.org/wiki/Tower_of_Hanoi) puzzle with three disks.\n",
    "\n",
    "To accomplish this, I have written a Temporal Difference learning algorithm which makes use of a Q table to store temporal differences. This code is adapted from Prof. Chuck Anderson's lecture notes on [Reinforcement Learning for Tic Tac Toe](http://nbviewer.jupyter.org/url/www.cs.colostate.edu/~anderson/cs440/notebooks/15%20Reinforcement%20Learning%20for%20Two-Player%20Games.ipynb).\n",
    "\n",
    "I have implemented the following functions:\n",
    "\n",
    "  - `printState(state)`: prints the state of the puzzle\n",
    "  - `validMoves(state)`: returns a list of valid moves from the current state\n",
    "  - `stateMoveTuple(state, move)`: returns the state and move as a tuple for keying into the Q dictionary\n",
    "  - `makeMove(state, move)`: returns the state resulting from executing the specified move\n",
    "  - `epsilonGreedy(epsilon, Q, state, validMovesF)`: returns a move that either explores or exploits\n",
    "  - `finished(state)`: returns True if all disks are on the third peg\n",
    "  - `trainQ(nRepetitions, learningRate, epsilonDecayFactor, validMovesF, makeMoveF)`: returns Q table along with a list of steps to reach the goal for each trial\n",
    "  - `testQ(Q, maxSteps, validMovesF, makeMoveF)`: uses Q to find the greedy move each step until goal is found. Returns path of states to goal\n",
    "  - `plotSteps(numTrials, stepsToGoal)`: plots number of steps to reach the goal for each trial\n",
    "\n",
    "At the end, I have made a plot to show how effectively the program learned to play Towers of Hanoi."
   ]
  },
  {
   "cell_type": "markdown",
   "metadata": {},
   "source": [
    "## Representing Towers of Hanoi"
   ]
  },
  {
   "cell_type": "markdown",
   "metadata": {},
   "source": [
    "### State"
   ]
  },
  {
   "cell_type": "markdown",
   "metadata": {},
   "source": [
    "To represent a state in Towers of Hanoi, we can use a list of lists. For example, `[[1, 2, 3], [], []]` represents the start state. We can then print out the starting state as follows:\n",
    "\n",
    "    1\n",
    "    2\n",
    "    3\n",
    "    -----\n",
    "    \n",
    "where the first, third, and fifth dashes represent the three pegs.\n"
   ]
  },
  {
   "cell_type": "code",
   "execution_count": 1,
   "metadata": {
    "collapsed": true
   },
   "outputs": [],
   "source": [
    "def printState(state):\n",
    "    '''\n",
    "    prints the state of the puzzle\n",
    "    :param state:\n",
    "    :return:\n",
    "    '''\n",
    "    peg1 = state[0]\n",
    "    peg2 = state[1]\n",
    "    peg3 = state[2]\n",
    "    if len(peg1) == 3:\n",
    "        for disk in peg1:\n",
    "            print(disk)\n",
    "    elif len(peg1) == 2:\n",
    "        if len(peg2) == 1:\n",
    "            print('{}\\n{} {}'.format(peg1[0], peg1[1], peg2[0]))\n",
    "        else: # last disk on peg 3\n",
    "            print('{}\\n{}   {}'.format(peg1[0], peg1[1], peg3[0]))\n",
    "    elif len(peg1) == 1:\n",
    "        if (len(peg2) == 0):\n",
    "            print('    {}'.format(peg3[0]))\n",
    "            print('{}   {}'.format(peg1[0], peg3[1]))\n",
    "        elif (len(peg2) == 1):\n",
    "            print('{} {} {}'.format(peg1[0], peg2[0], peg3[0]))\n",
    "        else: # 2 disks on peg 2\n",
    "            print('  {}'.format(peg2[0]))\n",
    "            print('{} {}'.format(peg1[0], peg2[1]))\n",
    "    else: # peg 1 has no disks\n",
    "        if len(peg2) == 3:\n",
    "            print('  {}\\n  {}\\n  {}'.format(peg2[0], peg2[1], peg2[2]))\n",
    "        elif len(peg2) == 2: # no disks on peg 1, 2 disks on peg 2, then 1 disk on peg 3\n",
    "            print('  {}'.format(peg2[0]))\n",
    "            print('  {} {}'.format(peg2[1], peg3[0]))\n",
    "        elif len(peg2) == 1: # other 2 disks on peg 3\n",
    "            print('    {}'.format(peg3[0]))\n",
    "            print('  {} {}'.format(peg2[0], peg3[1]))\n",
    "        else: # all 3 disks on peg 3\n",
    "            print('    {}\\n    {}\\n    {}'.format(peg3[0], peg3[1], peg3[2]))\n",
    "    print('-----')"
   ]
  },
  {
   "cell_type": "code",
   "execution_count": 2,
   "metadata": {},
   "outputs": [
    {
     "name": "stdout",
     "output_type": "stream",
     "text": [
      "1\n",
      "2\n",
      "3\n",
      "-----\n"
     ]
    }
   ],
   "source": [
    "state = [[1, 2, 3], [], []]\n",
    "printState(state)"
   ]
  },
  {
   "cell_type": "markdown",
   "metadata": {},
   "source": [
    "### Determining valid moves"
   ]
  },
  {
   "cell_type": "markdown",
   "metadata": {},
   "source": [
    "In Towers of Hanoi, we can only move disks to empty pegs or on top of larger disks. Moves will be represented using a list (e.g. [1, 2] indicates moving the disk at the top of peg 1 to peg 2)."
   ]
  },
  {
   "cell_type": "code",
   "execution_count": 3,
   "metadata": {
    "collapsed": true
   },
   "outputs": [],
   "source": [
    "def validMoves(state):\n",
    "    '''\n",
    "    Returns list of valid moves from current state.\n",
    "    Can't move larger disks on top of smaller disks. Can move disks to empty pegs.\n",
    "    :param state:\n",
    "    :return:\n",
    "    '''\n",
    "    peg1 = state[0]\n",
    "    peg2 = state[1]\n",
    "    peg3 = state[2]\n",
    "    validMoves = []\n",
    "\n",
    "    if peg1: # peg 1 is not empty\n",
    "        # all pegs not empty\n",
    "        if peg2 and peg3:\n",
    "            if peg1[0] < peg2[0]:\n",
    "                validMoves.append([1, 2])\n",
    "            if peg1[0] < peg3[0]:\n",
    "                validMoves.append([1, 3])\n",
    "            if peg2[0] < peg1[0]:\n",
    "                validMoves.append([2, 1])\n",
    "            if peg2[0] < peg3[0]:\n",
    "                validMoves.append([2, 3])\n",
    "            if peg3[0] < peg1[0]:\n",
    "                validMoves.append([3, 1])\n",
    "            if peg3[0] < peg2[0]:\n",
    "                validMoves.append([3, 2])\n",
    "        # disks on peg 1 & 2\n",
    "        elif peg2:\n",
    "            if peg1[0] < peg2[0]:\n",
    "                validMoves.append([1, 2])\n",
    "            if peg2[0] < peg1[0]:\n",
    "                validMoves.append([2, 1])\n",
    "            # add moves to empty pegs as valid moves\n",
    "            validMoves.append([1, 3])\n",
    "            validMoves.append([2, 3])\n",
    "        # disks on peg 1 & 3\n",
    "        elif peg3:\n",
    "            if peg1[0] < peg3[0]:\n",
    "                validMoves.append([1, 3])\n",
    "            if peg3[0] < peg1[0]:\n",
    "                validMoves.append([3, 1])\n",
    "            # add moves to empty pegs as valid moves\n",
    "            validMoves.append([1, 2])\n",
    "            validMoves.append([3, 2])\n",
    "        # all disks on peg 1\n",
    "        else:\n",
    "            # add moves to empty pegs as valid moves\n",
    "            validMoves.append([1, 2])\n",
    "            validMoves.append([1, 3])\n",
    "    # peg 1 is empty\n",
    "    else:\n",
    "        # disks on peg 2 & 3\n",
    "        if peg2 and peg3:\n",
    "            if peg2[0] < peg3[0]:\n",
    "                validMoves.append([2, 3])\n",
    "            if peg3[0] < peg2[0]:\n",
    "                validMoves.append([3, 2])\n",
    "            # add moves to empty pegs as valid moves\n",
    "            validMoves.append([2, 1])\n",
    "            validMoves.append([3, 1])\n",
    "        # all disks on peg 2\n",
    "        elif peg2:\n",
    "            # add moves to empty pegs as valid moves\n",
    "            validMoves.append([2, 1])\n",
    "            validMoves.append([2, 3])\n",
    "        # all disks on peg 3\n",
    "        elif peg3:\n",
    "            # add moves to empty pegs as valid moves\n",
    "            validMoves.append([3, 1])\n",
    "            validMoves.append([3, 2])\n",
    "\n",
    "    return validMoves"
   ]
  },
  {
   "cell_type": "code",
   "execution_count": 4,
   "metadata": {},
   "outputs": [
    {
     "name": "stdout",
     "output_type": "stream",
     "text": [
      "1\n",
      "2\n",
      "3\n",
      "-----\n",
      "valid moves are: [[1, 2], [1, 3]]\n"
     ]
    }
   ],
   "source": [
    "printState(state)\n",
    "print('valid moves are: {}'.format(validMoves(state)))"
   ]
  },
  {
   "cell_type": "markdown",
   "metadata": {},
   "source": [
    "### Making moves"
   ]
  },
  {
   "cell_type": "markdown",
   "metadata": {},
   "source": [
    "We don't want to modify the original state when making moves, so we will deep copy the state, do moves on the new state, and return that new state."
   ]
  },
  {
   "cell_type": "code",
   "execution_count": 5,
   "metadata": {
    "collapsed": true
   },
   "outputs": [],
   "source": [
    "from copy import deepcopy"
   ]
  },
  {
   "cell_type": "code",
   "execution_count": 6,
   "metadata": {
    "collapsed": true
   },
   "outputs": [],
   "source": [
    "def makeMove(state, move):\n",
    "    '''\n",
    "    Returns a new state where move was applied.\n",
    "    :param state:\n",
    "    :param move:\n",
    "    :return:\n",
    "    '''\n",
    "    # don't modify original state\n",
    "    newState = deepcopy(state)\n",
    "\n",
    "    # get pegs to move from and to, subtract 1 to get correct indices\n",
    "    moveFrom = move[0] - 1\n",
    "    moveTo = move[1] - 1\n",
    "\n",
    "    disk = newState[moveFrom].pop(0)\n",
    "    newState[moveTo].insert(0, disk)\n",
    "\n",
    "    return newState"
   ]
  },
  {
   "cell_type": "code",
   "execution_count": 7,
   "metadata": {},
   "outputs": [
    {
     "name": "stdout",
     "output_type": "stream",
     "text": [
      "1\n",
      "2\n",
      "3\n",
      "-----\n",
      "making move [1, 2]\n",
      "2\n",
      "3 1\n",
      "-----\n"
     ]
    }
   ],
   "source": [
    "printState(state)\n",
    "print('making move [1, 2]')\n",
    "printState(makeMove(state, [1, 2]))"
   ]
  },
  {
   "cell_type": "markdown",
   "metadata": {},
   "source": [
    "### Making it easier to key into the Q table"
   ]
  },
  {
   "cell_type": "markdown",
   "metadata": {},
   "source": [
    "The Q table will be implemented as a dictionary and only immutable types are allowed as keys. Therefore, we should convert the state, move pair into a tuple.\n",
    "\n",
    "An example with `state = [[2, 3], [], [1]]` and `move = [1, 2]` would convert to `smTuple = (((2, 3), (), (1,)), (1, 2))`"
   ]
  },
  {
   "cell_type": "code",
   "execution_count": 8,
   "metadata": {
    "collapsed": true
   },
   "outputs": [],
   "source": [
    "def stateMoveTuple(state, move):\n",
    "    '''\n",
    "    Returns the state and move as a tuple.\n",
    "    Use this tuple to key into the Q table dictionary.\n",
    "    :param state:\n",
    "    :param move:\n",
    "    :return:\n",
    "    '''\n",
    "    stateTuple = tuple([tuple(peg) for peg in state])\n",
    "    return (stateTuple, tuple(move))"
   ]
  },
  {
   "cell_type": "code",
   "execution_count": 9,
   "metadata": {},
   "outputs": [
    {
     "data": {
      "text/plain": [
       "(((2, 3), (), (1,)), (1, 2))"
      ]
     },
     "execution_count": 9,
     "metadata": {},
     "output_type": "execute_result"
    }
   ],
   "source": [
    "stateMoveTuple([[2, 3], [], [1]], [1, 2])"
   ]
  },
  {
   "cell_type": "markdown",
   "metadata": {},
   "source": [
    "### Are we done yet?"
   ]
  },
  {
   "cell_type": "markdown",
   "metadata": {},
   "source": [
    "We have solved the puzzle when all three disks are on the third peg. This is assuming we have only taken valid moves."
   ]
  },
  {
   "cell_type": "code",
   "execution_count": 10,
   "metadata": {
    "collapsed": true
   },
   "outputs": [],
   "source": [
    "def finished(state):\n",
    "    '''\n",
    "    Returns True if all disks are stacked correctly on the third peg.\n",
    "    Assumes only valid states are provided.\n",
    "    :param state:\n",
    "    :return:\n",
    "    '''\n",
    "    # if only valid states are provided, then the only time we are finished\n",
    "    # is if all disks are on the third peg\n",
    "    return len(state[2]) == 3"
   ]
  },
  {
   "cell_type": "code",
   "execution_count": 11,
   "metadata": {},
   "outputs": [
    {
     "name": "stdout",
     "output_type": "stream",
     "text": [
      "1\n",
      "2\n",
      "3\n",
      "-----\n",
      "Finished? False\n",
      "\n",
      "    1\n",
      "    2\n",
      "    3\n",
      "-----\n",
      "Finished? True\n"
     ]
    }
   ],
   "source": [
    "printState(state)\n",
    "print('Finished? {}'.format(finished(state)))\n",
    "print()\n",
    "printState([[], [], [1, 2, 3]])\n",
    "print('Finished? {}'.format(finished([[], [], [1, 2, 3]])))"
   ]
  },
  {
   "cell_type": "markdown",
   "metadata": {},
   "source": [
    "Now that we have set up Towers of Hanoi, we can start learning how to solve it."
   ]
  },
  {
   "cell_type": "markdown",
   "metadata": {},
   "source": [
    "## Temporal Difference Learning"
   ]
  },
  {
   "cell_type": "markdown",
   "metadata": {},
   "source": [
    "Let's first think about reinforcement learning. To accomplish tasks better, we can reward the program for making desirable choices and penalize it for making unfavorable choices. If we have the program play the game many times, and reward and penalize its actions, then at the end, it will have (hopefully!) learned to play the game well. Temporal Difference (TD) learning is a reinforcement learning algorithm that seeks to do just that.\n",
    "\n",
    "TD learning keeps a Q table of values for each state, move pair according to the predicted return from the next state. In the equation below, $s_t$ and $a_t$ represent the state and action at time $t$. The value for this state, action pair is the one step reinforcement ($r_{t+1}$) plus the value of the next state, action pair ($\\text{value}(s_{t+1},a_{t+1})$).\n",
    "\n",
    "$$\\text{value}(s_t,a_t) \\approx r_{t+1} + \\text{value}(s_{t+1},a_{t+1})$$\n",
    "\n",
    "We add the value of the next state, action pair to the one step reinforcement because we assume the next state, action pair has a good idea of the return for the rest of the game by ending up there.\n",
    "\n",
    "In Towers of Hanoi, we can assign a move we haven't explored yet with a return of -1 because we want the program to find the shortest path to the goal. By assigning one step reinforcements of -1, more moves taken will result in a lower return. Therefore, TD learning will try to maximize the return recieved from each state, move pair.\n",
    "\n",
    "If we encounter a goal state, we can assign a return of 0 to the previous state, move pair because if we have that state and move to choose from at any point in the game, then it is guaranteed to \"win\" by executing that action from that state. For example, given the `state = [[1], [], [2, 3]]` and the `move = [1, 3]` below, `Q((((1,), (), (2, 3)), (1, 3)) = 0` because moving disk 1 onto peg 3 will result in a win:\n",
    "\n",
    "        2\n",
    "    1   3\n",
    "    -----\n",
    "\n",
    "How do we decide whether to explore more or to exploit the Q table for the greedy move? This is where we can use an `epsilonGreedy` function to decide. Epsilon will be in the range $0 \\leq epsilon \\leq 1$ and is the chance that we will choose a random move."
   ]
  },
  {
   "cell_type": "markdown",
   "metadata": {},
   "source": [
    "### Epsilon - To Explore or not to Explore"
   ]
  },
  {
   "cell_type": "markdown",
   "metadata": {},
   "source": [
    "Initially epsilon is great because we haven't learned anything, so we want to explore a lot (i.e. choosing random moves). As we play more games, we want to decrease epsilon because we want to start relying on our prior experience a little more (exploiting the Q table). Eventually, we will have played so many games and learned so much that we are almost always exploiting the Q table instead of exploring random moves."
   ]
  },
  {
   "cell_type": "code",
   "execution_count": 12,
   "metadata": {
    "collapsed": true
   },
   "outputs": [],
   "source": [
    "import numpy as np\n",
    "import random as rand"
   ]
  },
  {
   "cell_type": "code",
   "execution_count": 13,
   "metadata": {
    "collapsed": true
   },
   "outputs": [],
   "source": [
    "def epsilonGreedy(epsilon, Q, state, validMovesF):\n",
    "    '''\n",
    "    Returns a move based on epsilon.\n",
    "    If epsilon is high, more exploration and less exploitation is done.\n",
    "    If epsilon is low, less exploration and more exploitation is done.\n",
    "    :param epsilon:\n",
    "    :param Q:\n",
    "    :param state:\n",
    "    :param validMovesF:\n",
    "    :return:\n",
    "    '''\n",
    "    # np.where returns a tuple with an array of indices that evaluated True\n",
    "    # for the specified condition as the first item of the tuple\n",
    "    # Use [0] to get this array of indices\n",
    "    validMoves = validMovesF(state)\n",
    "    if np.random.uniform() < epsilon:\n",
    "        # choose a random move\n",
    "        return rand.choice(validMoves)\n",
    "    else:\n",
    "        # choose the greedy move\n",
    "        # Get the Q values for the valid moves in this state\n",
    "        Qs = np.array([Q.get(stateMoveTuple(state, m), 0) for m in validMoves])\n",
    "        return validMoves[np.argmax(Qs)] # retrieves max Q value for current state in Q table"
   ]
  },
  {
   "cell_type": "markdown",
   "metadata": {},
   "source": [
    "### Train Q function"
   ]
  },
  {
   "cell_type": "markdown",
   "metadata": {},
   "source": [
    "We can train the Q values based on the number of trials we want (`nRepetitions`). To determine how much exploration vs exploitation we do, we specify the `epsilonDecayFactor`.\n",
    "\n",
    "Can we start learning now?\n",
    "\n",
    "Almost, we just need one more variable: the `learningRate`."
   ]
  },
  {
   "cell_type": "markdown",
   "metadata": {},
   "source": [
    "#### Learning Rate"
   ]
  },
  {
   "cell_type": "markdown",
   "metadata": {},
   "source": [
    "The `learningRate` determines how fast and accurate a program learns. A low `learningRate` means the program will slowly learn the true return for some state, action pair, but it could take a while if it is too low. A high `learningRate` means the program will update the Q values very dramatically which could lead to learning the true return faster, but can be very inaccurate also.\n",
    "\n",
    "It helps to picture finding the minimum of a parabola when thinking of `learningRate`. A low `learningRate` will slowly travel down one side of the parabola each iteration until it finds the minimum, though this could take a while. A high `learningRate` will travel down one side of the parabola very quickly each iteration, and could find the minimum quickly, but it will most likely overshoot the minimum and end up on the other side of it and continue to overshoot each iteration."
   ]
  },
  {
   "cell_type": "code",
   "execution_count": 14,
   "metadata": {
    "collapsed": true
   },
   "outputs": [],
   "source": [
    "def trainQ(nRepetitions, learningRate, epsilonDecayFactor, validMovesF, makeMoveF):\n",
    "    '''\n",
    "    Returns the Q values learned and steps to the goal for each trial.\n",
    "    :param nRepetitions:\n",
    "    :param learningRate:\n",
    "    :param epsilonDecayFactor:\n",
    "    :param validMovesF:\n",
    "    :param makeMoveF:\n",
    "    :return:\n",
    "    '''\n",
    "    epsilon = 1.0\n",
    "\n",
    "    outcomes = np.zeros(nRepetitions)\n",
    "    epsilons = np.zeros(nRepetitions)\n",
    "    # keep track of the number of steps to reach goal for each repetition\n",
    "    stepsToGoal = np.zeros(nRepetitions)\n",
    "    Q = {}\n",
    "\n",
    "    for nGame in range(nRepetitions):\n",
    "        epsilon *= epsilonDecayFactor\n",
    "        epsilons[nGame] = epsilon\n",
    "        step = 0\n",
    "        state = [[1, 2, 3], [], []] # towers of hanoi start state\n",
    "        done = False\n",
    "\n",
    "        while not done:\n",
    "            step += 1\n",
    "\n",
    "            # choose a move\n",
    "            move = epsilonGreedy(epsilon, Q, state, validMovesF)\n",
    "            newState = makeMoveF(state, move)\n",
    "\n",
    "            if (stateMoveTuple(state, move)) not in Q:\n",
    "                # initial Q value for state, move\n",
    "                # -1 b/c we want the program to learn to solve Towers of Hanoi quickly\n",
    "                # By assigning -1 to every move except for a move to the goal state,\n",
    "                # we can have program choose largest Q value as that will minimize # of steps taken\n",
    "                Q[stateMoveTuple(state, move)] = -1\n",
    "\n",
    "            if finished(newState): # goal state reached\n",
    "                # update Q value for previous state, move pair because we will always\n",
    "                # finish Towers of Hanoi from that state and action\n",
    "                Q[stateMoveTuple(state, move)] = 0\n",
    "                done = True\n",
    "                outcomes[nGame] = 0\n",
    "\n",
    "            if step > 1:\n",
    "                Q[stateMoveTuple(oldState, oldMove)] += learningRate * (-1 + Q[stateMoveTuple(state, move)]\n",
    "                                                                        - Q[stateMoveTuple(oldState, oldMove)])\n",
    "\n",
    "            # save this state; it will be the old state after next move\n",
    "            oldState, oldMove = state, move\n",
    "            state = newState\n",
    "        stepsToGoal[nGame] = step\n",
    "    return Q, stepsToGoal"
   ]
  },
  {
   "cell_type": "code",
   "execution_count": 15,
   "metadata": {
    "collapsed": true
   },
   "outputs": [],
   "source": [
    "Q, stepsToGoal = trainQ(50, 0.5, 0.7, validMoves, makeMove)"
   ]
  },
  {
   "cell_type": "code",
   "execution_count": 16,
   "metadata": {},
   "outputs": [
    {
     "data": {
      "text/plain": [
       "array([ 110.,   30.,   75.,   45.,   53.,   25.,   31.,   24.,    8.,\n",
       "         12.,   15.,   20.,    7.,   13.,   14.,   18.,    7.,    7.,\n",
       "          7.,    7.,    7.,    7.,    7.,    7.,    7.,    7.,    7.,\n",
       "          7.,    7.,    7.,    7.,    7.,    7.,    7.,    7.,    7.,\n",
       "          7.,    7.,    7.,    7.,    7.,    7.,    7.,    7.,    7.,\n",
       "          7.,    7.,    7.,    7.,    7.])"
      ]
     },
     "execution_count": 16,
     "metadata": {},
     "output_type": "execute_result"
    }
   ],
   "source": [
    "stepsToGoal"
   ]
  },
  {
   "cell_type": "markdown",
   "metadata": {},
   "source": [
    "### Testing the Q table"
   ]
  },
  {
   "cell_type": "markdown",
   "metadata": {},
   "source": [
    "We want to see how well the program learned to play Towers of Hanoi. We know that for a 3 disk environment, it takes 7 moves to solve. To find the shortest path to the goal, we can select the greedy moves from the Q table. Remember that a low epsilon will exploit more than it explores. Therefore, if $\\text{epsilon} = 0$, we will always be exploiting the Q table. From there, we choose the maximum return given the state we are in, which will also be the greedy move."
   ]
  },
  {
   "cell_type": "code",
   "execution_count": 17,
   "metadata": {
    "collapsed": true
   },
   "outputs": [],
   "source": [
    "def testQ(Q, maxSteps, validMovesF, makeMoveF):\n",
    "    '''\n",
    "    Return path of states to goal.\n",
    "    Finds the greedy action each step until goal is found.\n",
    "    :param Q:\n",
    "    :param maxSteps:\n",
    "    :param validMovesF:\n",
    "    :param makeMoveF:\n",
    "    :return:\n",
    "    '''\n",
    "    state = [[1, 2, 3], [], []]\n",
    "    pathToGoal = [state]\n",
    "    done = False\n",
    "    while not done:\n",
    "        # pass in 0 as epsilon because we don't want to explore, Q is already trained with some good values\n",
    "        # therefore, we can just exploit the Q table for the best moves learned so far\n",
    "        move = epsilonGreedy(0, Q, state, validMovesF)\n",
    "        newState = makeMove(state, move)\n",
    "        if finished(newState):\n",
    "            done = True\n",
    "        pathToGoal.append(newState)\n",
    "        state = newState\n",
    "    return pathToGoal"
   ]
  },
  {
   "cell_type": "code",
   "execution_count": 18,
   "metadata": {
    "collapsed": true
   },
   "outputs": [],
   "source": [
    "path = testQ(Q, 20, validMoves, makeMove)"
   ]
  },
  {
   "cell_type": "code",
   "execution_count": 19,
   "metadata": {
    "scrolled": true
   },
   "outputs": [
    {
     "data": {
      "text/plain": [
       "[[[1, 2, 3], [], []],\n",
       " [[2, 3], [], [1]],\n",
       " [[3], [2], [1]],\n",
       " [[3], [1, 2], []],\n",
       " [[], [1, 2], [3]],\n",
       " [[1], [2], [3]],\n",
       " [[1], [], [2, 3]],\n",
       " [[], [], [1, 2, 3]]]"
      ]
     },
     "execution_count": 19,
     "metadata": {},
     "output_type": "execute_result"
    }
   ],
   "source": [
    "path"
   ]
  },
  {
   "cell_type": "code",
   "execution_count": 20,
   "metadata": {},
   "outputs": [
    {
     "name": "stdout",
     "output_type": "stream",
     "text": [
      "Path to goal is: (7 moves)\n",
      "1\n",
      "2\n",
      "3\n",
      "-----\n",
      "\n",
      "2\n",
      "3   1\n",
      "-----\n",
      "\n",
      "3 2 1\n",
      "-----\n",
      "\n",
      "  1\n",
      "3 2\n",
      "-----\n",
      "\n",
      "  1\n",
      "  2 3\n",
      "-----\n",
      "\n",
      "1 2 3\n",
      "-----\n",
      "\n",
      "    2\n",
      "1   3\n",
      "-----\n",
      "\n",
      "    1\n",
      "    2\n",
      "    3\n",
      "-----\n",
      "\n"
     ]
    }
   ],
   "source": [
    "# len - 1 b/c start state is not a move, but is in the path\n",
    "print('Path to goal is: ({:d} moves)'.format(len(path) - 1))\n",
    "for p in path:\n",
    "    printState(p)\n",
    "    print()"
   ]
  },
  {
   "cell_type": "markdown",
   "metadata": {},
   "source": [
    "## Can I see how well this thing learned?"
   ]
  },
  {
   "cell_type": "markdown",
   "metadata": {},
   "source": [
    "We can plot the number of moves to the goal for each trial using `matplotlib`."
   ]
  },
  {
   "cell_type": "code",
   "execution_count": 21,
   "metadata": {
    "collapsed": true
   },
   "outputs": [],
   "source": [
    "import matplotlib.pyplot as plt\n",
    "from IPython.display import display, clear_output"
   ]
  },
  {
   "cell_type": "code",
   "execution_count": 22,
   "metadata": {
    "collapsed": true
   },
   "outputs": [],
   "source": [
    "def plotSteps(numTrials, stepsToGoal):\n",
    "    # plot number of steps to reach goal for each trial\n",
    "    trials = list(range(numTrials))\n",
    "    plt.plot(trials, stepsToGoal)\n",
    "    plt.xlabel('Trials')\n",
    "    plt.ylabel('Steps to Goal')"
   ]
  },
  {
   "cell_type": "code",
   "execution_count": 23,
   "metadata": {},
   "outputs": [
    {
     "data": {
      "image/png": "[encoded data removed]",
      "text/plain": [
       "<matplotlib.figure.Figure at 0x10ecd0438>"
      ]
     },
     "metadata": {},
     "output_type": "display_data"
    }
   ],
   "source": [
    "fig = plt.figure(figsize=(10, 10))\n",
    "plotSteps(50, stepsToGoal)\n",
    "clear_output(wait=True)\n",
    "display(fig)"
   ]
  }
 ],
 "metadata": {
  "kernelspec": {
   "display_name": "Python 3",
   "language": "python",
   "name": "python3"
  },
  "language_info": {
   "codemirror_mode": {
    "name": "ipython",
    "version": 3
   },
   "file_extension": ".py",
   "mimetype": "text/x-python",
   "name": "python",
   "nbconvert_exporter": "python",
   "pygments_lexer": "ipython3",
   "version": "3.6.1"
  }
 },
 "nbformat": 4,
 "nbformat_minor": 2
}
